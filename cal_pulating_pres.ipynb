{
  "nbformat": 4,
  "nbformat_minor": 0,
  "metadata": {
    "colab": {
      "name": "cal_pulating_pres.ipynb",
      "provenance": [],
      "authorship_tag": "ABX9TyPsWr9SqlLBZ82S9+KZCo5J",
      "include_colab_link": true
    },
    "kernelspec": {
      "name": "python3",
      "display_name": "Python 3"
    }
  },
  "cells": [
    {
      "cell_type": "markdown",
      "metadata": {
        "id": "view-in-github",
        "colab_type": "text"
      },
      "source": [
        "<a href=\"https://colab.research.google.com/github/souken-b/calc_OWC/blob/main/cal_pulating_pres.ipynb\" target=\"_parent\"><img src=\"https://colab.research.google.com/assets/colab-badge.svg\" alt=\"Open In Colab\"/></a>"
      ]
    },
    {
      "cell_type": "code",
      "metadata": {
        "id": "JOP2iXKajqnu"
      },
      "source": [
        "import numpy as np\n",
        "from scipy.integrate import odeint\n",
        "import matplotlib.pyplot as plt\n",
        "%matplotlib inline"
      ],
      "execution_count": 874,
      "outputs": []
    },
    {
      "cell_type": "code",
      "metadata": {
        "id": "SgI4KVsokp0r"
      },
      "source": [
        "T = 20 # 周期\n",
        "n = 1000 # 分割数\n",
        "n_diam = 0.008123 # オリフィス直径(m)\n",
        "D0 = 0.0254 # 円管の直径(m)\n",
        "A = 5.1823028331816915 * 1e-05 # オリフィスの断面積(m3)\n",
        "A0 = np.pi * ((D0 / 2) ** 2) # 円管の断面積(m2)\n",
        "L0 = 0.12 # t=0での空気室高さ(m)\n",
        "# L0 = 0.15830000000000002 # ピストンロッドの長さ(m)\n",
        "L = 0.012 # ピストンロッドの長さ(m)\n",
        "d_ratio = n_diam / D0 # 絞り直径比\n",
        "n_ratio = d_ratio ** 2 # 絞り面積比\n",
        "h_ratio = 1.4 # 比熱比\n",
        "p_air = 101325 # 大気圧(pa)\n",
        "dens_air = 1.225 # 空気の密度(kg/m3)\n",
        "p_0 = 700 + p_air # 圧力の初期値"
      ],
      "execution_count": 875,
      "outputs": []
    },
    {
      "cell_type": "code",
      "metadata": {
        "id": "p85eg4xFtsrJ"
      },
      "source": [
        "def c_ci(d_ratio)->'非圧縮性の縮流係数':\n",
        "  # flow coefficient\n",
        "  f_coef = 0.598 - 0.003 * (d_ratio ** 2) + 0.404 * (d_ratio ** 4)\n",
        "  return (f_coef / ((1 + (d_ratio ** 4) * (f_coef ** 2)) ** (1/2)))"
      ],
      "execution_count": 876,
      "outputs": []
    },
    {
      "cell_type": "code",
      "metadata": {
        "id": "9uWV2IKRttpY"
      },
      "source": [
        "def force_ci(c_ci)->'非圧縮性力欠損係数':\n",
        "  return ((1 / c_ci) - (1 / (2 * (c_ci ** 2))))"
      ],
      "execution_count": 877,
      "outputs": []
    },
    {
      "cell_type": "code",
      "metadata": {
        "id": "p314LN9-twgo"
      },
      "source": [
        "def c_c(f_ci_c, p_up, p_air, h_ratio)->'圧縮性の縮流係数':\n",
        "  p_ratio = p_up / p_air\n",
        "  h_ratio_rev = 1/ h_ratio\n",
        "  return ((1 / (2 * f_ci_c)) * (p_ratio ** h_ratio_rev) * (1 - (1 - ((2 * f_ci_c * (1 - h_ratio_rev)) * (1 - (1 / p_ratio)) / (1- (p_ratio) ** (h_ratio_rev - 1))))  ** (1/2)))"
      ],
      "execution_count": 878,
      "outputs": []
    },
    {
      "cell_type": "code",
      "metadata": {
        "id": "g5l9XDAakeki"
      },
      "source": [
        "def rounge_kutta(n, T, dpdt:'関数', p_0, p_air, d_ratio, h_ratio, A0, L, L0, A, f_ci_c, c_c, forward_flow):\n",
        "  h = T / n\n",
        "  t = np.arange(0, T, h)\n",
        "  p = np.empty(n)\n",
        "  p[0] = p_0\n",
        "  \n",
        "  # 方程式を解くための反復計算\n",
        "  for i in range(n-1):\n",
        "    const_args = [p_air, T, d_ratio, h_ratio, A0, L, L0, A, f_ci_c, c_c, forward_flow]\n",
        "    k_1 = h * dpdt(p[i], t[i], *const_args)\n",
        "    k_2 = h * dpdt(p[i] + k_1 /2 , t[i] + h/2, *const_args)\n",
        "    k_3 = h * dpdt(p[i] + k_2 /2 , t[i] + h/2, *const_args)\n",
        "    k_4 = h * dpdt(p[i] + k_3, t[i] + h, *const_args)\n",
        "    p[i+1] = p[i] + 1/6 * (k_1 + 2*k_2 + 2*k_3 + k_4)\n",
        "  \n",
        "  # 誤差の計算\n",
        "  v = np.empty(n)\n",
        "  for i in range(n):\n",
        "    v[i] = np.exp(h*i)\n",
        "  e = v - p \n",
        "  \n",
        "  return [t, p]"
      ],
      "execution_count": 879,
      "outputs": []
    },
    {
      "cell_type": "code",
      "metadata": {
        "id": "nj493hgEp50P"
      },
      "source": [
        "def forward_flow(c_c_c, A, p_up, p_air, h_ratio, dens_up):\n",
        "  h_ratio_rev = 1 / h_ratio\n",
        "  return  c_c_c * A  * ((p_up / p_air) ** (-1 * h_ratio_rev)) * (((2 / (1 - h_ratio_rev)) * (p_up / dens_up) * (1 - (p_up / p_air) ** (h_ratio_rev - 1))) ** (1 / 2))"
      ],
      "execution_count": 880,
      "outputs": []
    },
    {
      "cell_type": "code",
      "metadata": {
        "id": "S3MZaNJikvKz"
      },
      "source": [
        "def dpdt(p_up, t, p_air, T, d_ratio, h_ratio, A0, L, L0, A, f_ci_c, c_c:'関数', forward_flow:'関数')->'押出圧力変化':\n",
        "  # 円振動数ω\n",
        "  c_freq = 2 * np.pi / T\n",
        "  h_ratio_rev = 1 / h_ratio\n",
        "  # 上流密度\n",
        "  dens_up = 1.225 * ((p_up / p_air) ** (h_ratio_rev))\n",
        "  c_c_c = c_c(f_ci_c, p_up, p_air, h_ratio)\n",
        "  flow = forward_flow(c_c_c, A, p_up, p_air, h_ratio, dens_up)\n",
        "  dpdt = (-7/5) * p_up * ((L * c_freq * np.cos(c_freq * t) / (L * np.sin(c_freq * t) - L0)) + ((p_air / p_up) ** (h_ratio_rev)) * (flow / ((L0 - L * np.sin(c_freq * t)) * A0)))\n",
        "  return dpdt"
      ],
      "execution_count": 881,
      "outputs": []
    },
    {
      "cell_type": "code",
      "metadata": {
        "colab": {
          "base_uri": "https://localhost:8080/"
        },
        "id": "36McBuDckxXY",
        "outputId": "efbb5eaa-03dd-4092-8df5-3c0f61e8523b"
      },
      "source": [
        "c_ci_c = c_ci(d_ratio)\n",
        "f_ci_c = force_ci(c_ci_c)\n",
        "t_list, p_list = rounge_kutta(n, T, dpdt, p_0, p_air, d_ratio, h_ratio, A0, L, L0, A, f_ci_c, c_c, forward_flow)"
      ],
      "execution_count": 882,
      "outputs": [
        {
          "output_type": "stream",
          "text": [
            "/usr/local/lib/python3.6/dist-packages/ipykernel_launcher.py:3: RuntimeWarning: invalid value encountered in double_scalars\n",
            "  This is separate from the ipykernel package so we can avoid doing imports until\n"
          ],
          "name": "stderr"
        }
      ]
    },
    {
      "cell_type": "code",
      "metadata": {
        "colab": {
          "base_uri": "https://localhost:8080/",
          "height": 265
        },
        "id": "arWfDwPK92cd",
        "outputId": "1142b0b8-3f60-4a26-f869-f417c0aad0d7"
      },
      "source": [
        "fig = plt.figure()\n",
        "ax = fig.add_subplot(1, 1, 1)\n",
        "ax.scatter(t_list, p_list, c='blue')\n",
        "plt.show()"
      ],
      "execution_count": 883,
      "outputs": [
        {
          "output_type": "display_data",
          "data": {
            "image/png": "[encoded data removed]",
            "text/plain": [
              "<Figure size 432x288 with 1 Axes>"
            ]
          },
          "metadata": {
            "tags": [],
            "needs_background": "light"
          }
        }
      ]
    },
    {
      "cell_type": "code",
      "metadata": {
        "id": "9lyK_GuEcveF"
      },
      "source": [
        "t_list = np.arange(0, T/4, T/n)\n",
        "c_freq = 2 * np.pi / T"
      ],
      "execution_count": 884,
      "outputs": []
    },
    {
      "cell_type": "code",
      "metadata": {
        "id": "mSHifqVd3k7J"
      },
      "source": [
        "V0 = [((L0 - L * np.sin(c_freq * t))*A0) for t in t_list]\n",
        "V0dt = [(A0 * L * c_freq * np.cos(c_freq * t)) for t in t_list]"
      ],
      "execution_count": 885,
      "outputs": []
    },
    {
      "cell_type": "code",
      "metadata": {
        "colab": {
          "base_uri": "https://localhost:8080/",
          "height": 276
        },
        "id": "JnGN1ASMdGhq",
        "outputId": "4ae0d20c-b004-44a7-d94d-5dde5f323a93"
      },
      "source": [
        "fig = plt.figure()\n",
        "ax = fig.add_subplot(1, 1, 1)\n",
        "ax.scatter(t_list, V0, c='blue')\n",
        "plt.show()"
      ],
      "execution_count": 886,
      "outputs": [
        {
          "output_type": "display_data",
          "data": {
            "image/png": "[encoded data removed]",
            "text/plain": [
              "<Figure size 432x288 with 1 Axes>"
            ]
          },
          "metadata": {
            "tags": [],
            "needs_background": "light"
          }
        }
      ]
    },
    {
      "cell_type": "code",
      "metadata": {
        "colab": {
          "base_uri": "https://localhost:8080/",
          "height": 276
        },
        "id": "WvIq1XHgdKdT",
        "outputId": "03b62320-2457-4d32-fe4e-ce02257d74e2"
      },
      "source": [
        "fig = plt.figure()\n",
        "ax = fig.add_subplot(1, 1, 1)\n",
        "ax.scatter(t_list, V0dt, c='green')\n",
        "plt.show()"
      ],
      "execution_count": 887,
      "outputs": [
        {
          "output_type": "display_data",
          "data": {
            "image/png": "[encoded data removed]",
            "text/plain": [
              "<Figure size 432x288 with 1 Axes>"
            ]
          },
          "metadata": {
            "tags": [],
            "needs_background": "light"
          }
        }
      ]
    },
    {
      "cell_type": "code",
      "metadata": {
        "id": "BLRpHLtmejgC"
      },
      "source": [
        ""
      ],
      "execution_count": 887,
      "outputs": []
    }
  ]
}