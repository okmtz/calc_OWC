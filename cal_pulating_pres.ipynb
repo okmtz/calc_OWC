{
  "nbformat": 4,
  "nbformat_minor": 0,
  "metadata": {
    "colab": {
      "name": "cal_pulating_pres.ipynb",
      "provenance": [],
      "authorship_tag": "ABX9TyMBlFOxiOJUik1sEbMiShTU",
      "include_colab_link": true
    },
    "kernelspec": {
      "name": "python3",
      "display_name": "Python 3"
    }
  },
  "cells": [
    {
      "cell_type": "markdown",
      "metadata": {
        "id": "view-in-github",
        "colab_type": "text"
      },
      "source": [
        "<a href=\"https://colab.research.google.com/github/souken-b/calc_OWC/blob/main/cal_pulating_pres.ipynb\" target=\"_parent\"><img src=\"https://colab.research.google.com/assets/colab-badge.svg\" alt=\"Open In Colab\"/></a>"
      ]
    },
    {
      "cell_type": "code",
      "metadata": {
        "id": "JOP2iXKajqnu"
      },
      "source": [
        "import numpy as np\n",
        "from scipy.integrate import odeint\n",
        "import matplotlib.pyplot as plt\n",
        "%matplotlib inline"
      ],
      "execution_count": 42,
      "outputs": []
    },
    {
      "cell_type": "code",
      "metadata": {
        "id": "SgI4KVsokp0r"
      },
      "source": [
        "T = 20\n",
        "n = 1000\n",
        "n_diam = 0.8123 / 100\n",
        "d_ratio = n_diam / (25.4 / 1000)\n",
        "A0 = np.pi * (((25.4 / 2) / (1000)) ** 2)\n",
        "L = 120 / 1000\n",
        "L0 = 158.3 / 1000\n",
        "p_air = 101325 \n",
        "p_0 = 500 + p_air\n",
        "n_ratio = d_ratio ** 2\n",
        "A = A0 * n_ratio\n",
        "h_ratio = 1.4\n",
        "dens_air = 1.225"
      ],
      "execution_count": 43,
      "outputs": []
    },
    {
      "cell_type": "code",
      "metadata": {
        "id": "p85eg4xFtsrJ"
      },
      "source": [
        "def c_ci(d_ratio: 'diameter ratiodiameter'):\n",
        "  # flow coefficient\n",
        "  f_coef = 0.598 - 0.003 * (d_ratio ** 2) + 0.404 * (d_ratio ** 4)\n",
        "  return (f_coef / ((1 + (d_ratio ** 4) * (f_coef ** 2)) ** (1/2)))"
      ],
      "execution_count": 44,
      "outputs": []
    },
    {
      "cell_type": "code",
      "metadata": {
        "id": "9uWV2IKRttpY"
      },
      "source": [
        "def force_ci(c_ci: '縮流係数'):\n",
        "  return ((1 / c_ci) - (1 / (2 * (c_ci ** 2))))"
      ],
      "execution_count": 45,
      "outputs": []
    },
    {
      "cell_type": "code",
      "metadata": {
        "id": "p314LN9-twgo"
      },
      "source": [
        "def c_c(f_ci: 'force coef', p_up, p_air, h_ratio):\n",
        "  p_ratio = p_up / p_air\n",
        "  h_ratio_rev = 1/ h_ratio\n",
        "  return ((1 / (2 * f_ci)) * (p_ratio ** h_ratio_rev) * (1 - (1 - ((2 * f_ci * (1 - h_ratio_rev)) * (1 - (1 / p_ratio)) / (1- (p_ratio) ** (h_ratio_rev - 1))))  ** (1/2)))"
      ],
      "execution_count": 46,
      "outputs": []
    },
    {
      "cell_type": "code",
      "metadata": {
        "id": "g5l9XDAakeki"
      },
      "source": [
        "def rounge_kutta(n, T, dpdt, p_0, p_air, d_ratio, h_ratio, A0, L, L0, A, c_ci, c_c, f_ci, forward_flow):\n",
        "  h = T / n\n",
        "  t = np.arange(0, T, h)\n",
        "  p = np.empty(n)\n",
        "  p[0] = p_0\n",
        "  \n",
        "  # 方程式を解くための反復計算\n",
        "  for i in range(n-1):\n",
        "    k_1 = h * dpdt(p[i], p_air, t[i], T, d_ratio, h_ratio, A0, L, L0, A, c_ci, c_c, f_ci, forward_flow)\n",
        "    k_2 = h * dpdt(p[i] + k_1 /2 , p_air, t[i] + h/2, T, d_ratio, h_ratio, A0, L, L0, A, c_ci, c_c, f_ci, forward_flow)\n",
        "    k_3 = h * dpdt(p[i] + k_2 /2 , p_air, t[i] + h/2, T, d_ratio, h_ratio, A0, L, L0, A, c_ci, c_c, f_ci, forward_flow)\n",
        "    k_4 = h * dpdt(p[i] + k_3, p_air, t[i] + h, T, d_ratio, h_ratio, A0, L, L0, A, c_ci, c_c, f_ci, forward_flow)\n",
        "    p[i+1] = p[i] + 1/6 * (k_1 + 2*k_2 + 2*k_3 + k_4)\n",
        "  \n",
        "  # 誤差の計算\n",
        "  v = np.empty(n)\n",
        "  for i in range(n):\n",
        "    v[i] = np.exp(h*i)\n",
        "  e = v - p \n",
        "  \n",
        "  return [t, p]"
      ],
      "execution_count": 47,
      "outputs": []
    },
    {
      "cell_type": "code",
      "metadata": {
        "id": "nj493hgEp50P"
      },
      "source": [
        "def forward_flow(c_c_c, n_area, p_up, p_air, h_ratio, dens_up):\n",
        "  h_ratio_rev = 1 / h_ratio\n",
        "  forward_flow =  c_c_c * n_area  * ((p_up / p_air) ** (-1 * h_ratio_rev)) * (((2 / (1 - h_ratio_rev)) * (p_up / dens_up) * (1 - (p_up / p_air) ** (h_ratio_rev - 1))) ** (1 / 2))\n",
        "  return forward_flow"
      ],
      "execution_count": 48,
      "outputs": []
    },
    {
      "cell_type": "code",
      "metadata": {
        "id": "S3MZaNJikvKz"
      },
      "source": [
        "def dpdt(p_up, p_air, t, T, d_ratio, h_ratio, A0, L, L0, A, c_ci, c_c, f_ci, forward_flow):\n",
        "  c_freq = 2 * np.pi / T\n",
        "  h_ratio_rev = 1 / h_ratio\n",
        "  dens_up = 1.225 * ((p_up / p_air) ** (h_ratio_rev))\n",
        "  n_ratio = d_ratio ** 2\n",
        "  c_ci_c = c_ci(d_ratio)\n",
        "  f_ci_c = f_ci(c_ci_c)\n",
        "  c_c_c = c_c(f_ci_c, p_up, p_air, h_ratio)\n",
        "  flow = forward_flow(c_c_c, n_ratio, p_up, p_air, h_ratio, dens_up)\n",
        "  dpdt = (-7/5) * p_up * ((L * c_freq * np.cos(c_freq * t) / (L * np.sin(c_freq * t) - L0)) + ((p_air / p_up) ** (h_ratio_rev)) * (flow / ((L0 - L * np.sin(c_freq * t)) / A0)))\n",
        "  return dpdt"
      ],
      "execution_count": 49,
      "outputs": []
    },
    {
      "cell_type": "code",
      "metadata": {
        "colab": {
          "base_uri": "https://localhost:8080/"
        },
        "id": "36McBuDckxXY",
        "outputId": "31f016f7-3e4e-4fdd-e071-c65ba297bc5d"
      },
      "source": [
        "t_r_list, p_r_list = rounge_kutta(n, T, dpdt, p_0, p_air, d_ratio, h_ratio, A0, L, L0, A, c_ci, c_c, force_ci, forward_flow)"
      ],
      "execution_count": 50,
      "outputs": [
        {
          "output_type": "stream",
          "text": [
            "/usr/local/lib/python3.6/dist-packages/ipykernel_launcher.py:3: RuntimeWarning: invalid value encountered in double_scalars\n",
            "  This is separate from the ipykernel package so we can avoid doing imports until\n"
          ],
          "name": "stderr"
        }
      ]
    },
    {
      "cell_type": "code",
      "metadata": {
        "colab": {
          "base_uri": "https://localhost:8080/",
          "height": 265
        },
        "id": "arWfDwPK92cd",
        "outputId": "60cdc0a5-3734-4f5b-e10e-8b17322d981b"
      },
      "source": [
        "fig = plt.figure()\n",
        "ax = fig.add_subplot(1, 1, 1)\n",
        "ax.scatter(t_r_list, p_r_list, c='blue')\n",
        "plt.show()"
      ],
      "execution_count": 51,
      "outputs": [
        {
          "output_type": "display_data",
          "data": {
            "image/png": "[encoded data removed]",
            "text/plain": [
              "<Figure size 432x288 with 1 Axes>"
            ]
          },
          "metadata": {
            "tags": [],
            "needs_background": "light"
          }
        }
      ]
    },
    {
      "cell_type": "code",
      "metadata": {
        "id": "HqdfIAIMz_lq"
      },
      "source": [
        "p_r_diff_list = p_r_list - p_air"
      ],
      "execution_count": 52,
      "outputs": []
    },
    {
      "cell_type": "code",
      "metadata": {
        "colab": {
          "base_uri": "https://localhost:8080/",
          "height": 265
        },
        "id": "jkRLQEQK3gk5",
        "outputId": "73e1e045-5044-4bd6-e891-045d33bd49af"
      },
      "source": [
        "fig = plt.figure()\n",
        "ax = fig.add_subplot(1, 1, 1)\n",
        "ax.scatter(t_r_list, p_r_diff_list, c='blue')\n",
        "plt.show()"
      ],
      "execution_count": 53,
      "outputs": [
        {
          "output_type": "display_data",
          "data": {
            "image/png": "[encoded data removed]",
            "text/plain": [
              "<Figure size 432x288 with 1 Axes>"
            ]
          },
          "metadata": {
            "tags": [],
            "needs_background": "light"
          }
        }
      ]
    },
    {
      "cell_type": "code",
      "metadata": {
        "id": "mSHifqVd3k7J"
      },
      "source": [
        ""
      ],
      "execution_count": null,
      "outputs": []
    }
  ]
}