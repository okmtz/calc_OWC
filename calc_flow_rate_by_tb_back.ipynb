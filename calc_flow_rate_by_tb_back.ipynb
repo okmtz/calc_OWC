{
  "nbformat": 4,
  "nbformat_minor": 0,
  "metadata": {
    "colab": {
      "name": "calc_flow_rate_by_tb_back.ipynb",
      "provenance": [],
      "authorship_tag": "ABX9TyO445mhNY7zto976otQDvJS",
      "include_colab_link": true
    },
    "kernelspec": {
      "name": "python3",
      "display_name": "Python 3"
    }
  },
  "cells": [
    {
      "cell_type": "markdown",
      "metadata": {
        "id": "view-in-github",
        "colab_type": "text"
      },
      "source": [
        "<a href=\"https://colab.research.google.com/github/souken-b/calc_OWC/blob/main/calc_flow_rate_by_tb_back.ipynb\" target=\"_parent\"><img src=\"https://colab.research.google.com/assets/colab-badge.svg\" alt=\"Open In Colab\"/></a>"
      ]
    },
    {
      "cell_type": "code",
      "metadata": {
        "id": "LNixBNfpEBHl"
      },
      "source": [
        "import numpy as np\n",
        "from sympy import *\n",
        "import matplotlib.pyplot as plt\n",
        "%matplotlib inline"
      ],
      "execution_count": 122,
      "outputs": []
    },
    {
      "cell_type": "code",
      "metadata": {
        "id": "SS00RNRgEYOI"
      },
      "source": [
        "def force_ci(c_ci: '縮流係数'):\n",
        "  return ((1 / c_ci) - (1 / (2 * (c_ci ** 2))))"
      ],
      "execution_count": 123,
      "outputs": []
    },
    {
      "cell_type": "code",
      "metadata": {
        "id": "lCM9GEfpEac6"
      },
      "source": [
        "def c_ci(d_ratio: 'diameter ratiodiameter'):\n",
        "  # flow coefficient\n",
        "  f_coef = 0.598 - 0.003 * (d_ratio ** 2) + 0.404 * (d_ratio ** 4)\n",
        "  return (f_coef / ((1 + (d_ratio ** 4) * (f_coef ** 2)) ** (1/2)))"
      ],
      "execution_count": 124,
      "outputs": []
    },
    {
      "cell_type": "code",
      "metadata": {
        "id": "Ammg5aDIEex-"
      },
      "source": [
        "def c_c(f_ci: 'force coef', p_up, p_down, h_ratio):\n",
        "  p_ratio = p_up / p_down\n",
        "  h_ratio_rev = 1/ h_ratio\n",
        "  return ((1 / (2 * f_ci)) * (p_ratio ** h_ratio_rev) * (1 - (1 - ((2 * f_ci * (1 - h_ratio_rev)) * (1 - (1 / p_ratio)) / (1- (p_ratio) ** (h_ratio_rev - 1))))  ** (1/2)))"
      ],
      "execution_count": 125,
      "outputs": []
    },
    {
      "cell_type": "code",
      "metadata": {
        "id": "TnDRHyqjEgBq"
      },
      "source": [
        "def flow(c_c, n_area, p_air, p_down, h_ratio, dens_air):\n",
        "  h_ratio_rev = 1 / h_ratio\n",
        "  return  c_c * n_area  * ((p_air / p_down) ** (-1 * h_ratio_rev)) * (((2 / (1 - h_ratio_rev)) * (p_air / dens_air) * (1 - (p_air / p_down) ** (h_ratio_rev - 1))) ** (1 / 2))"
      ],
      "execution_count": 126,
      "outputs": []
    },
    {
      "cell_type": "code",
      "metadata": {
        "id": "oE8DsWOaEiKp"
      },
      "source": [
        "def flow_coef(c_c, n_ratio, h_ratio, p_air, p_down):\n",
        "  h_ratio_rev = 1 / h_ratio\n",
        "  flow_coef = c_c / ((1 - ((c_c ** 2) * n_ratio * ((p_air / p_down) ** (-2*h_ratio_rev)))) ** (1/2))\n",
        "  return flow_coef"
      ],
      "execution_count": 127,
      "outputs": []
    },
    {
      "cell_type": "code",
      "metadata": {
        "id": "XDTHZchcEkIA"
      },
      "source": [
        "def rey_num(flow,  n_diam):\n",
        "  # air viscosity rate(Pa・s)\n",
        "  a_v_rate = 18.2 * 1e-6\n",
        "  # air temparature(K)\n",
        "  a_temp = 273 + 25\n",
        "  # sutherland constant\n",
        "  c_suther = 117\n",
        "  # viscosity rate\n",
        "  v_rate = a_v_rate * ((a_temp + c_suther) / (a_temp + c_suther)) * (a_temp / a_temp)**(3/2)\n",
        "  # upstream density\n",
        "  dens_up = 1.225 \n",
        "  c_lambda = (4/(pi * n_diam))*(dens_up / v_rate)\n",
        "  rey_num = c_lambda * flow\n",
        "  return rey_num"
      ],
      "execution_count": 128,
      "outputs": []
    },
    {
      "cell_type": "code",
      "metadata": {
        "id": "FME0EMjKEpl5"
      },
      "source": [
        "n_diam = 0.8123 / 100\n",
        "d_ratio = 0\n",
        "a_0 = pi * (((25.4 / 2) / (1000)) ** 2)\n",
        "p_air = 101325 \n",
        "n_ratio = 0\n",
        "n_area = pi * ((n_diam / 2) ** 2)\n",
        "h_ratio = 1.4\n",
        "dens_air = 1.225\n",
        "t_back = np.linspace(np.pi, (3 * np.pi / 2), 5000)\n",
        "sin_list = np.sin(t_back)\n",
        "p0_list_in = [(700*i + 101325 ) for i in sin_list]\n",
        "rey_num_list = []\n",
        "flow_coef_list = []\n",
        "c_c_list = []\n",
        "flow_list = []"
      ],
      "execution_count": 129,
      "outputs": []
    },
    {
      "cell_type": "code",
      "metadata": {
        "colab": {
          "base_uri": "https://localhost:8080/"
        },
        "id": "E5jYs3p7EsMR",
        "outputId": "b9451e39-7b2d-4824-fed8-a245a0e30158"
      },
      "source": [
        "for p0 in p0_list_in:\n",
        "  dens_down = 1.225 * ((p0 / p_air) ** (1 / h_ratio))\n",
        "  temp_down = ((28.93/1000) / 8.3144) * (p0 / dens_down)\n",
        "  c_ci_c = c_ci(d_ratio)\n",
        "  f_ci_c = force_ci(c_ci_c)\n",
        "  # 圧縮性流体力学\n",
        "  c_c_c = c_c(f_ci_c, p_air, p0, h_ratio)\n",
        "  c_c_list.append(c_c_c)\n",
        "  flow_coef_c =  flow_coef(c_c_c, n_ratio, h_ratio, p_air, p0)\n",
        "  q = flow(flow_coef_c, n_area, p_air, p0, h_ratio, dens_air)\n",
        "  rey_num_c = rey_num(q, n_diam)\n",
        "  rey_num_list.append(rey_num_c ** (1/2))\n",
        "  flow_coef_list.append(flow_coef_c)\n",
        "  flow_list.append(q)"
      ],
      "execution_count": 130,
      "outputs": [
        {
          "output_type": "stream",
          "text": [
            "/usr/local/lib/python3.6/dist-packages/ipykernel_launcher.py:4: RuntimeWarning: invalid value encountered in double_scalars\n",
            "  after removing the cwd from sys.path.\n"
          ],
          "name": "stderr"
        }
      ]
    },
    {
      "cell_type": "code",
      "metadata": {
        "colab": {
          "base_uri": "https://localhost:8080/",
          "height": 265
        },
        "id": "bj9cep02EvCs",
        "outputId": "91dcfb48-1f4b-4167-d908-1fba72a78902"
      },
      "source": [
        "fig = plt.figure()\n",
        "ax = fig.add_subplot(1, 1, 1)\n",
        "ax.scatter(t_back, flow_list, c='blue')\n",
        "ax.grid(which = \"major\", axis = \"y\", color = \"green\", alpha = 0.8, linestyle = \"--\", linewidth = 1)\n",
        "fig.show()"
      ],
      "execution_count": 135,
      "outputs": [
        {
          "output_type": "display_data",
          "data": {
            "image/png": "[encoded data removed]",
            "text/plain": [
              "<Figure size 432x288 with 1 Axes>"
            ]
          },
          "metadata": {
            "tags": [],
            "needs_background": "light"
          }
        }
      ]
    },
    {
      "cell_type": "code",
      "metadata": {
        "id": "2qkRQUEzY1iO"
      },
      "source": [
        ""
      ],
      "execution_count": null,
      "outputs": []
    }
  ]
}