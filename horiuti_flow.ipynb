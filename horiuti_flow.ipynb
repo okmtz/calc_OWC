{
  "nbformat": 4,
  "nbformat_minor": 0,
  "metadata": {
    "colab": {
      "name": "horiuti_flow.ipynb",
      "provenance": [],
      "authorship_tag": "ABX9TyMJLHyTPYisQkgLTjnniDrp",
      "include_colab_link": true
    },
    "kernelspec": {
      "name": "python3",
      "display_name": "Python 3"
    }
  },
  "cells": [
    {
      "cell_type": "markdown",
      "metadata": {
        "id": "view-in-github",
        "colab_type": "text"
      },
      "source": [
        "<a href=\"https://colab.research.google.com/github/souken-b/calc_OWC/blob/main/horiuti_flow.ipynb\" target=\"_parent\"><img src=\"https://colab.research.google.com/assets/colab-badge.svg\" alt=\"Open In Colab\"/></a>"
      ]
    },
    {
      "cell_type": "code",
      "metadata": {
        "id": "xBNq47w7APOF"
      },
      "source": [
        "import numpy as np\n",
        "from sympy import *\n",
        "import matplotlib.pyplot as plt\n",
        "%matplotlib inline"
      ],
      "execution_count": 113,
      "outputs": []
    },
    {
      "cell_type": "code",
      "metadata": {
        "id": "eY6_imm9BYqm"
      },
      "source": [
        "def newton_raphson(f, q1):\n",
        "  fq = diff(f, q)\n",
        "  threshold = 1e-6\n",
        "  res = threshold + 1\n",
        "\n",
        "  while res > threshold:\n",
        "    q2 = float(q1 - (f.subs(q, q1) / fq.subs(q, q1)))\n",
        "    res = np.abs(q2 - q1)\n",
        "    q1 = q2\n",
        "  return q1"
      ],
      "execution_count": 114,
      "outputs": []
    },
    {
      "cell_type": "code",
      "metadata": {
        "id": "qDmPPlC1A1ck"
      },
      "source": [
        "def f(q: 'flow_rate', n_diam: 'nozzle diameter', temp, p_up, p_down, n_ratio: 'nozzle ratio', h_ratio: 'specific heat ratio', flow_flg: 'flow direction flg', c_upsilon: '膨張補正係数') -> 'f(q)=aq^3+bq^2+q+d':\n",
        "  # air viscosity rate(Pa・s)\n",
        "  a_v_rate = 18.2 * 1e-6\n",
        "  # air temparature(K)\n",
        "  a_temp = 273 + 25\n",
        "  # sutherland constant\n",
        "  c_suther = 117\n",
        "  # viscosity rate\n",
        "  v_rate = a_v_rate * ((a_temp + c_suther) / (temp + c_suther)) * (temp / a_temp)**(3/2)\n",
        "  # upstream density\n",
        "  dens_up = (p_up * (28.93/1000)) / (8.3144 * temp)\n",
        "  c_lambda = (4/(pi*n_diam))*(dens_up/v_rate)\n",
        "  # 膨張補正係数\n",
        "  exp_coef = c_upsilon\n",
        "  H = (exp_coef ** 2) * ((pi*((n_diam / 2)**2)) ** 2) * 2 * (p_up - p_down) / dens_up\n",
        "  # forward flow\n",
        "  A_0 = 0.601\n",
        "  B = 22.7\n",
        "  C = 815\n",
        "  D = 1401\n",
        "  \n",
        "  coef_a = c_lambda ** 2\n",
        "  coef_b = c_lambda * (B + C)\n",
        "  coef_c = B * C - (c_lambda ** 2) * (A_0 ** 2) *  H\n",
        "  coef_d = -(c_lambda * (A_0 ** 2) * D * H)\n",
        "  return (coef_a * q ** 3 + coef_b * q ** 2 + coef_c * q +coef_d)"
      ],
      "execution_count": 115,
      "outputs": []
    },
    {
      "cell_type": "code",
      "metadata": {
        "id": "oBa5QXy-NUlm"
      },
      "source": [
        "def force_ci(c_ci: '縮流係数'):\n",
        "  return ((1 / c_ci) - (1 / (2 * (c_ci ** 2))))"
      ],
      "execution_count": 116,
      "outputs": []
    },
    {
      "cell_type": "code",
      "metadata": {
        "id": "UWncQODXNQXP"
      },
      "source": [
        "def c_ci(d_ratio: 'diameter ratiodiameter'):\n",
        "  # flow coefficient\n",
        "  f_coef = 0.598 - 0.003 * (d_ratio ** 2) + 0.404 * (d_ratio ** 4)\n",
        "  return (f_coef / ((1 + (d_ratio ** 4) * (f_coef ** 2)) ** (1/2)))"
      ],
      "execution_count": 117,
      "outputs": []
    },
    {
      "cell_type": "code",
      "metadata": {
        "id": "MsLSj-OXNIsB"
      },
      "source": [
        "def c_c(f_ci: 'force coef', p_up, p_down, h_ratio):\n",
        "  p_ratio = p_up / p_down\n",
        "  h_ratio_rev = 1/ h_ratio\n",
        "  return ((1 / (2 * f_ci)) * (p_ratio ** h_ratio_rev) * (1 - (1 - ((2 * f_ci * (1 - h_ratio_rev)) * (1 - (1 / p_ratio)) / (1- (p_ratio) ** (h_ratio_rev - 1))))  ** (1/2)))"
      ],
      "execution_count": 118,
      "outputs": []
    },
    {
      "cell_type": "code",
      "metadata": {
        "id": "_h2o0MopM4BS"
      },
      "source": [
        "def upsilon(c_ci, c_c, d_ratio:'diameter ratio', p_up, p_down, h_ratio)-> '膨張補正係数':\n",
        "  p_ratio = p_up / p_down\n",
        "  h_ratio_rev = 1/ h_ratio\n",
        "  return ((c_c / c_ci) * (((1 - (c_ci ** 2) * (d_ratio ** 4)) / (1 - (c_c ** 2) * (d_ratio ** 4) * ((1 / p_ratio) ** (2 * h_ratio_rev)))) ** (1/2)) * (((1 / (1 - h_ratio_rev)) * (((1 / p_ratio) ** (2 * h_ratio_rev)) - ((1 / p_ratio) ** (1 + h_ratio_rev))) / (1 - (1 / p_ratio))) ** (1 / 2)))"
      ],
      "execution_count": 119,
      "outputs": []
    },
    {
      "cell_type": "code",
      "metadata": {
        "id": "mIyCMoL8B5WH"
      },
      "source": [
        "def flow_coef(flow, temp_up, p_up, n_diam):\n",
        "  coef_a_0 = 0.601\n",
        "  coef_b = 22.7\n",
        "  coef_c = 815\n",
        "  coef_d = 1401\n",
        "  \n",
        "  # air viscosity rate(Pa・s)\n",
        "  a_v_rate = 18.2 * 1e-6\n",
        "  # air temparature(K)\n",
        "  a_temp = 273 + 25\n",
        "  # sutherland constant\n",
        "  c_suther = 117\n",
        "  # viscosity rate\n",
        "  v_rate = a_v_rate * ((a_temp + c_suther) / (temp_up + c_suther)) * (temp_up / a_temp)**(3/2)\n",
        "  # upstream density\n",
        "  dens_up = (p_up * (28.93/1000)) / (8.3144 * temp_up)\n",
        "  c_lambda = (4/(pi * n_diam))*(dens_up / v_rate)\n",
        "  flow_coef = ((coef_a_0 ** 2) * (flow / (flow + (coef_b / c_lambda)) * (flow + (coef_d / c_lambda)) / (flow + coef_c / c_lambda))) ** (1/2)\n",
        "  rey_num = c_lambda * flow\n",
        "  return [flow_coef, rey_num]"
      ],
      "execution_count": 120,
      "outputs": []
    },
    {
      "cell_type": "code",
      "metadata": {
        "id": "S5rEBnUXGtnZ"
      },
      "source": [
        "q = Symbol('q')\n",
        "n_diam = 0.8123 / 100\n",
        "d_ratio = n_diam / (25.4 / 1000)\n",
        "a_0 = pi * (((25.4 / 2) / (1000)) ** 2)\n",
        "p_air = 101325 \n",
        "n_ratio = d_ratio ** 2\n",
        "h_ratio = 1.4\n",
        "dens_air = 1.225\n",
        "t_forward = np.linspace(0, (np.pi / 2), 5000)\n",
        "sin_list = np.sin(t_forward)\n",
        "p0_list_in = [(1000*i + 101325 ) for i in sin_list]\n",
        "rey_num_list = []\n",
        "flow_coef_list = []"
      ],
      "execution_count": 121,
      "outputs": []
    },
    {
      "cell_type": "code",
      "metadata": {
        "id": "-I9W9J44Kauy",
        "outputId": "625730d4-46cd-4c20-e27a-afa52fc14adb",
        "colab": {
          "base_uri": "https://localhost:8080/"
        }
      },
      "source": [
        "for p0 in p0_list_in:\n",
        "  dens_up = 1.225 * ((p0 / p_air) ** (1 / h_ratio))\n",
        "  temp_up = ((28.93/1000) / 8.3144) * (p0 / dens_up)\n",
        "  c_ci_c = c_ci(d_ratio)\n",
        "  f_ci_c = force_ci(c_ci_c)\n",
        "  # 圧縮性流体力学\n",
        "  c_c_c = c_c(f_ci_c, p0, p_air, h_ratio)\n",
        "  c_upsilon = upsilon(c_ci_c, c_c_c, d_ratio, p0, p_air, h_ratio) \n",
        "  q1 = newton_raphson(f(q, n_diam, temp_up, p0, p_air, n_ratio, h_ratio, True, c_upsilon), q1=0.0009) \n",
        "  flow_coef_c, rey_num = flow_coef(q1, temp_up, p0, n_diam)\n",
        "  rey_num_list.append(rey_num ** (1/2))\n",
        "  flow_coef_list.append(flow_coef_c)"
      ],
      "execution_count": 122,
      "outputs": [
        {
          "output_type": "stream",
          "text": [
            "/usr/local/lib/python3.6/dist-packages/ipykernel_launcher.py:4: RuntimeWarning: invalid value encountered in double_scalars\n",
            "  after removing the cwd from sys.path.\n"
          ],
          "name": "stderr"
        }
      ]
    },
    {
      "cell_type": "code",
      "metadata": {
        "id": "nWeNYfWNSJ7s",
        "outputId": "d03447f5-4a39-4bab-904d-0152088bc265",
        "colab": {
          "base_uri": "https://localhost:8080/",
          "height": 269
        }
      },
      "source": [
        "fig = plt.figure()\n",
        "ax = fig.add_subplot(1, 1, 1)\n",
        "ax.scatter(rey_num_list, flow_coef_list, c='blue')\n",
        "ax.set_ylim(0, 0.8)\n",
        "fig.show()"
      ],
      "execution_count": 123,
      "outputs": [
        {
          "output_type": "display_data",
          "data": {
            "image/png": "[encoded data removed]",
            "text/plain": [
              "<Figure size 432x288 with 1 Axes>"
            ]
          },
          "metadata": {
            "tags": [],
            "needs_background": "light"
          }
        }
      ]
    }
  ]
}