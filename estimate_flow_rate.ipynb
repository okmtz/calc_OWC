{
  "nbformat": 4,
  "nbformat_minor": 0,
  "metadata": {
    "colab": {
      "name": "estimate_flow_rate.ipynb",
      "provenance": [],
      "authorship_tag": "ABX9TyMKyVwAxRjOsYmzSgsucit5",
      "include_colab_link": true
    },
    "kernelspec": {
      "name": "python3",
      "display_name": "Python 3"
    }
  },
  "cells": [
    {
      "cell_type": "markdown",
      "metadata": {
        "id": "view-in-github",
        "colab_type": "text"
      },
      "source": [
        "<a href=\"https://colab.research.google.com/github/souken-b/calc_OWC/blob/main/estimate_flow_rate.ipynb\" target=\"_parent\"><img src=\"https://colab.research.google.com/assets/colab-badge.svg\" alt=\"Open In Colab\"/></a>"
      ]
    },
    {
      "cell_type": "markdown",
      "metadata": {
        "id": "QuYFckf5fEwC"
      },
      "source": [
        "<img width=\"318\" alt=\"スクリーンショット 2020-12-26 23 38 28\" src=\"https://user-images.githubusercontent.com/54773770/103153454-ea545900-47d3-11eb-9d1e-7f336680bf8c.png\">\n"
      ]
    },
    {
      "cell_type": "code",
      "metadata": {
        "id": "PDAwXjNVrQQ9"
      },
      "source": [
        "def f_i(c_ci: '非圧縮性縮流係数'):\n",
        "  f_i = (1 _ c_ci) - (1 / (2 * (c_ci ** 2)))\n",
        "  return f_i"
      ],
      "execution_count": null,
      "outputs": []
    },
    {
      "cell_type": "code",
      "metadata": {
        "id": "sxnrET9ZrTw9"
      },
      "source": [
        "def c_ci(n_ratio: '絞り面積比')->'非圧縮性縮流係数':\n",
        "  # 流量係数\n",
        "  f_coef = 0.598 - 0.003 * n_ratio + 0.404 * (n_ratio ** 2)\n",
        "  c_ci = f_coef / ((1 + (n_ratio ** 2) * (f_coef ** 2)) ** (1 / 2))\n",
        "  return c_ci"
      ],
      "execution_count": 1,
      "outputs": []
    },
    {
      "cell_type": "code",
      "metadata": {
        "id": "yA_AYf92ne9q"
      },
      "source": [
        "def c_c(f: '力欠損係数', n_ratio: '絞り面積比', h_ratio: '比熱比')->'圧縮性縮流係数':\n",
        "  h_ratio_rev = 1 / h_ratio\n",
        "  p_ratio = p_up / p_down\n",
        "  z = (1 - h_ratio_rev) * (1 - (1 / p_ratio)) / (1 - (p_ratio ** (h_ratio_rev - 1)))\n",
        "  c_c = (1 + ((1- z * ((n_ratio ** 2) * z + 2 * n_ratio + 2 * f)) ** (1 / 2))) / (2 * (p_ratio ** (1 / h_ratio_rev)) * ((n_ratio ** 2) * (z / 2) + n_ratio + f))\n",
        "  return c_c"
      ],
      "execution_count": null,
      "outputs": []
    },
    {
      "cell_type": "code",
      "metadata": {
        "id": "kiMANK2Sjtp6"
      },
      "source": [
        "def flow_rate(c_c: '圧縮性縮流係数', n_ratio: '絞り面積比', h_ratio: '比熱比', d_up: '上流の密度', d_down: '下流の密度', p_up, p_down):\n",
        "  h_ratio_rev = 1 / h_ratio\n",
        "  p_ratio = p_up / p_down\n",
        "  v_up = n_ratio * c_c * (p_ratio ** (1 / h_ratio_rev) * ((2 * p_down * (p_ratio ** (1 - h_ratio_rev))/ (d_down * (1 - h_ratio_rev))) ** (1 / 2))) / (1 - (n_ratio ** 2) * (c_c ** 2) * (p_ratio ** (1 / (2 * h_ratio_rev))))"
      ],
      "execution_count": null,
      "outputs": []
    },
    {
      "cell_type": "code",
      "metadata": {
        "id": "iavY8hcUszrB"
      },
      "source": [
        ""
      ],
      "execution_count": null,
      "outputs": []
    }
  ]
}