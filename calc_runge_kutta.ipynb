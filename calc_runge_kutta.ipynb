{
  "nbformat": 4,
  "nbformat_minor": 0,
  "metadata": {
    "colab": {
      "name": "calc_runge_kutta.ipynb",
      "provenance": [],
      "authorship_tag": "ABX9TyPpAYvUiMzkcgxwplpdFKwh",
      "include_colab_link": true
    },
    "kernelspec": {
      "name": "python3",
      "display_name": "Python 3"
    }
  },
  "cells": [
    {
      "cell_type": "markdown",
      "metadata": {
        "id": "view-in-github",
        "colab_type": "text"
      },
      "source": [
        "<a href=\"https://colab.research.google.com/github/souken-b/calc_OWC/blob/main/calc_runge_kutta.ipynb\" target=\"_parent\"><img src=\"https://colab.research.google.com/assets/colab-badge.svg\" alt=\"Open In Colab\"/></a>"
      ]
    },
    {
      "cell_type": "code",
      "metadata": {
        "id": "JRNk23wyHs4l"
      },
      "source": [
        "import numpy as np\n",
        "from scipy.integrate import odeint\n",
        "import matplotlib.pyplot as plt\n",
        "%matplotlib inline"
      ],
      "execution_count": 110,
      "outputs": []
    },
    {
      "cell_type": "code",
      "metadata": {
        "id": "ptkXhTN_IjkC"
      },
      "source": [
        "T = 50\n",
        "n = 1000\n",
        "u_0 = 1"
      ],
      "execution_count": 111,
      "outputs": []
    },
    {
      "cell_type": "code",
      "metadata": {
        "id": "PU4WChUJ11ov"
      },
      "source": [
        "def rounge_kutta(t, n, f, u_0):\n",
        "  h = T / n\n",
        "  t = np.arange(0,T,h)\n",
        "  \n",
        "  u = np.empty(n)\n",
        "  u[0] = u_0\n",
        "  \n",
        "  # 方程式を解くための反復計算\n",
        "  for i in range(n-1):\n",
        "    k_1 = h * f(u[i], t[i])\n",
        "    k_2 = h * f(u[i] + k_1 /2 , t[i] + h/2 )\n",
        "    k_3 = h * f(u[i] + k_2 /2 , t[i] + h/2 )\n",
        "    k_4 = h * f(u[i] + k_3 , t[i] + h )        \n",
        "    u[i+1] = u[i] + 1/6 * (k_1 + 2*k_2 + 2*k_3 + k_4 )\n",
        "  \n",
        "  # 誤差の計算\n",
        "  v = np.empty(n)\n",
        "  for i in range(n):\n",
        "    v[i] = np.exp(h*i)\n",
        "  e = v - u\n",
        "  \n",
        "  return [t, u]"
      ],
      "execution_count": 112,
      "outputs": []
    },
    {
      "cell_type": "code",
      "metadata": {
        "id": "CXjkZJF6YuOv"
      },
      "source": [
        "h = T / n\n",
        "t_list = np.arange(0, T, h)\n",
        "y_list = odeint(f, 1, t_list)"
      ],
      "execution_count": 113,
      "outputs": []
    },
    {
      "cell_type": "code",
      "metadata": {
        "id": "NHWflVvEHgeH"
      },
      "source": [
        "f = lambda u, t=0 : u"
      ],
      "execution_count": 114,
      "outputs": []
    },
    {
      "cell_type": "code",
      "metadata": {
        "id": "SnU-Mhj-KAOl"
      },
      "source": [
        "t_r_list, u_r_list = rounge_kutta(T, n, f, u_0)"
      ],
      "execution_count": 115,
      "outputs": []
    },
    {
      "cell_type": "code",
      "metadata": {
        "colab": {
          "base_uri": "https://localhost:8080/",
          "height": 276
        },
        "id": "uNBHMZH1LaZN",
        "outputId": "b749de18-1506-429b-a16d-fdccf730cead"
      },
      "source": [
        "fig = plt.figure()\n",
        "ax = fig.add_subplot(1, 1, 1)\n",
        "ax.scatter(t_list, y_list, c='blue')\n",
        "ax.scatter(t_r_list, u_r_list, c='green')\n",
        "plt.show()"
      ],
      "execution_count": 118,
      "outputs": [
        {
          "output_type": "display_data",
          "data": {
            "image/png": "[encoded data removed]",
            "text/plain": [
              "<Figure size 432x288 with 1 Axes>"
            ]
          },
          "metadata": {
            "tags": [],
            "needs_background": "light"
          }
        }
      ]
    },
    {
      "cell_type": "code",
      "metadata": {
        "id": "ckH1NiQ3MK9H"
      },
      "source": [
        ""
      ],
      "execution_count": 116,
      "outputs": []
    }
  ]
}