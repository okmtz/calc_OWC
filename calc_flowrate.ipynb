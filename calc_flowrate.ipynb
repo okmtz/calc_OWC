{
  "nbformat": 4,
  "nbformat_minor": 0,
  "metadata": {
    "colab": {
      "name": "calc_flowrate.ipynb",
      "provenance": [],
      "collapsed_sections": [],
      "authorship_tag": "ABX9TyMef1Txvfl4Twp7GTpPuLDs",
      "include_colab_link": true
    },
    "kernelspec": {
      "display_name": "Python 3",
      "name": "python3"
    }
  },
  "cells": [
    {
      "cell_type": "markdown",
      "metadata": {
        "id": "view-in-github",
        "colab_type": "text"
      },
      "source": [
        "<a href=\"https://colab.research.google.com/github/souken-b/calc_OWC/blob/main/calc_flowrate.ipynb\" target=\"_parent\"><img src=\"https://colab.research.google.com/assets/colab-badge.svg\" alt=\"Open In Colab\"/></a>"
      ]
    },
    {
      "cell_type": "code",
      "metadata": {
        "id": "JiTRc3Wh2Qwc"
      },
      "source": [
        "import numpy as np\n",
        "from sympy import *\n",
        "import matplotlib.pyplot as plt\n",
        "%matplotlib inline"
      ],
      "execution_count": 174,
      "outputs": []
    },
    {
      "cell_type": "code",
      "metadata": {
        "id": "nrMPFgGS4WJb"
      },
      "source": [
        "def c_ci(d_ratio: 'diameter ratiodiameter')->'縮流係数（非圧縮性）':\n",
        "  # flow coefficient\n",
        "  f_coef = 0.598 - 0.003 * (d_ratio ** 2) + 0.404 * (d_ratio ** 4)\n",
        "  return (f_coef / ((1 + (d_ratio ** 4) * (f_coef ** 2)) ** (1/2)))"
      ],
      "execution_count": 175,
      "outputs": []
    },
    {
      "cell_type": "code",
      "metadata": {
        "id": "fwxAN6CG4ohb"
      },
      "source": [
        "def force_ci(c_ci: '縮流係数')->'力欠損係数（非圧縮）':\n",
        "  return ((1 / c_ci) - (1 / (2 * (c_ci ** 2))))"
      ],
      "execution_count": 176,
      "outputs": []
    },
    {
      "cell_type": "code",
      "metadata": {
        "id": "i1VIoi_D4r4f"
      },
      "source": [
        "def c_c(f_ci:'force coef', d_ratio, p_up, p_down, h_ratio)->'縮流係数（圧縮性）（fundamentals of pipeflow）':\n",
        "  p_ratio = p_up / p_down\n",
        "  h_ratio_rev = 1 / h_ratio\n",
        "  Z = ((1 - h_ratio_rev) * (1- (1 / p_ratio))) / (1 - ((p_ratio) ** (h_ratio_rev - 1)))\n",
        "  return ((1 - (1 - Z * ((-1) * (d_ratio ** 4 ) * Z + 2 * (d_ratio ** 2) + 2 * f_ci)) ** (1/2)) / (2 * (1 / (p_ratio ** (h_ratio_rev))) * ((-1) * (d_ratio ** 4) * (Z / 2) + (d_ratio ** 2) + f_ci)))"
      ],
      "execution_count": 177,
      "outputs": []
    },
    {
      "cell_type": "code",
      "metadata": {
        "id": "xJ1xJ3IQ4utY"
      },
      "source": [
        "def c_c_2(f_ci: 'force coef', p_up, p_down, h_ratio)->'縮流係数（圧縮性）（圧縮性流体力学）':\n",
        "  p_ratio = p_up / p_down\n",
        "  h_ratio_rev = 1/ h_ratio \n",
        "  return ((1 / (2 * f_ci)) * (p_ratio ** h_ratio_rev) * (1 - (1 - ((2 * f_ci * (1 - h_ratio_rev)) * (1 - (1 / p_ratio)) / (1- (p_ratio) ** (h_ratio_rev - 1))))  ** (1/2)))"
      ],
      "execution_count": 178,
      "outputs": []
    },
    {
      "cell_type": "code",
      "metadata": {
        "id": "e2SAWJ97x7e4"
      },
      "source": [
        "def upsilon(c_ci, c_c, d_ratio:'diameter ratio', p_up, p_down, h_ratio)-> '膨張補正係数':\n",
        "  p_ratio = p_up / p_down\n",
        "  h_ratio_rev = 1/ h_ratio\n",
        "  return ((c_c / c_ci) * (((1 - (c_ci ** 2) * (d_ratio ** 4)) / (1 - (c_c ** 2) * (d_ratio ** 4) * ((1 / p_ratio) ** (2 * h_ratio_rev)))) ** (1/2)) * (((1 / (1 - h_ratio_rev)) * (((1 / p_ratio) ** (2 * h_ratio_rev)) - ((1 / p_ratio) ** (1 + h_ratio_rev))) / (1 - (1 / p_ratio))) ** (1 / 2)))"
      ],
      "execution_count": 179,
      "outputs": []
    },
    {
      "cell_type": "markdown",
      "metadata": {
        "id": "c0O5O9gExtH1"
      },
      "source": [
        ""
      ]
    },
    {
      "cell_type": "code",
      "metadata": {
        "id": "ysbd7AXF2a3n"
      },
      "source": [
        "def f(q: 'flow_rate', n_diam: 'nozzle diameter', temp, p_up, p_down, n_ratio: 'nozzle ratio', h_ratio: 'specific heat ratio', flow_flg: 'flow direction flg', c_upsilon: '膨張補正係数') -> 'f(q)=aq^3+bq^2+q+d':\n",
        "  # air viscosity rate(Pa・s)\n",
        "  a_v_rate = 18.2 * 1e-6\n",
        "  # air temparature(K)\n",
        "  a_temp = 273 + 25\n",
        "  # sutherland constant\n",
        "  c_suther = 117\n",
        "  # viscosity rate\n",
        "  v_rate = a_v_rate * ((a_temp + c_suther) / (temp + c_suther)) * (temp / a_temp)**(3/2)\n",
        "  # upstream density\n",
        "  if (flow_flg):\n",
        "    dens_up = (p_up * (28.93/1000)) / (8.3144 * temp)\n",
        "  else:\n",
        "    dens_up = 1.225\n",
        "  c_lambda = (4/(pi*n_diam))*(dens_up/v_rate)\n",
        "  # 膨張補正係数\n",
        "  # exp_coef = 1-(0.41 + 0.35 * (n_ratio**2))*((p_up - p_down)/(h_ratio * p_up))\n",
        "  # print(exp_coef)\n",
        "  exp_coef = c_upsilon\n",
        "  # print(exp_coef_2)\n",
        "  H = (exp_coef ** 2) * ((pi*((n_diam / 2)**2)) ** 2) * 2 * (p_up - p_down) / dens_up\n",
        "  # 実験値\n",
        "  if (flow_flg):\n",
        "    # forward flow\n",
        "    A_0 = 0.601\n",
        "    B = 22.7\n",
        "    C = 815\n",
        "    D = 1401\n",
        "  else:\n",
        "    # backward flow\n",
        "    A_0 = 0.626\n",
        "    B = 26.2\n",
        "    C = 1733\n",
        "    D = 2794\n",
        "  \n",
        "  coef_a = c_lambda ** 2\n",
        "  coef_b = c_lambda * (B + C)\n",
        "  coef_c = B * C - (c_lambda ** 2) * (A_0 ** 2) *  H\n",
        "  coef_d = -(c_lambda * (A_0 ** 2) * D * H)\n",
        "  return (coef_a * q ** 3 + coef_b * q ** 2 + coef_c * q +coef_d)\n",
        "\n"
      ],
      "execution_count": 180,
      "outputs": []
    },
    {
      "cell_type": "code",
      "metadata": {
        "id": "qxLaPr9C3gWj"
      },
      "source": [
        "def newton_raphson(f, q1):\n",
        "  fq = diff(f, q)\n",
        "  threshold = 1e-6\n",
        "  res = threshold + 1\n",
        "\n",
        "  while res > threshold:\n",
        "    q2 = float(q1 - (f.subs(q, q1) / fq.subs(q, q1)))\n",
        "    res = np.abs(q2 - q1)\n",
        "    q1 = q2\n",
        "  return q2\n"
      ],
      "execution_count": 181,
      "outputs": []
    },
    {
      "cell_type": "code",
      "metadata": {
        "id": "TcCfMa7Ytg81"
      },
      "source": [
        "def q_calc(a_0: 'area of upper flow', d_ratio: 'diameter ratio', p_up, p_down, c_c, h_ratio: 'heat ratio', flow_flg)->'圧縮性':\n",
        "  h_ratio_rev = 1 / h_ratio\n",
        "  if (flow_flg):\n",
        "    dens_up = 1.225 * ((p_up / p_down) ** (h_ratio_rev))\n",
        "    dens_down = 1.225\n",
        "  else:\n",
        "    dens_up = 1.225\n",
        "    dens_down = 1.225 * ((p_down / p_up) ** (h_ratio_rev))\n",
        "  p_ratio = p_up / p_down\n",
        "  v_up = ((d_ratio ** 2) * c_c * (p_ratio ** (1 / h_ratio_rev)) * ((2 * (p_ratio ** (1- h_ratio_rev)) * (p_down / dens_down) * (1 - (p_ratio ** (h_ratio_rev - 1)))) ** (1 / 2)) / ((1 - (d_ratio ** 4) * (c_c ** 2) * (p_ratio ** (1 / (2 * h_ratio_rev))) ** (1/2))))\n",
        "  return (a_0 * v_up)\n"
      ],
      "execution_count": 182,
      "outputs": []
    },
    {
      "cell_type": "code",
      "metadata": {
        "id": "zKWJ28siFUJ5"
      },
      "source": [
        "def q_calc_i(a_0, c_ci, d_ratio, p_up, p_down, dens_air):\n",
        "  p_ratio = p_up / p_down\n",
        "  v_up = (d_ratio ** 2) * c_ci * ((2 * p_down * (p_ratio - 1) / dens_air)**(1/2)) / ((1 - (c_ci ** 2) * (d_ratio ** 4)) ** (1/2))\n",
        "  return (a_0 * v_up)"
      ],
      "execution_count": 183,
      "outputs": []
    },
    {
      "cell_type": "code",
      "metadata": {
        "id": "dIkMw9LiGJaU"
      },
      "source": [
        "q = Symbol('q')\n",
        "n_diam = 2 * ((0.5183/pi) ** (1/2)) / 100\n",
        "d_ratio = n_diam / (25.4 / 1000)\n",
        "# d_ratio = (1 / 200) ** (1 / 2)\n",
        "a_0 = pi * (((25.4 / (1000 * 2)) ** 2))\n",
        "# a_0 = pi * (0.5 ** 2)\n",
        "temp = 273 + 25\n",
        "p_down = 101325 \n",
        "n_ratio = d_ratio ** 2\n",
        "h_ratio = 1.4"
      ],
      "execution_count": 184,
      "outputs": []
    },
    {
      "cell_type": "code",
      "metadata": {
        "id": "8X1g2Q9kv0JM"
      },
      "source": [
        "t_forward = np.linspace(0, np.pi, 500)\n",
        "sin_list = np.sin(t_forward)\n",
        "p1_list_in = [(1000*i + 101325 ) for i in sin_list]\n",
        "q1_list_1_forward = []\n",
        "q1_list_2_forward = []\n",
        "q1_list_0_forward = []\n",
        "q_calc_list_1_forward = []\n",
        "q_calc_list_2_forward = []\n",
        "q_list_i_forward = []"
      ],
      "execution_count": 185,
      "outputs": []
    },
    {
      "cell_type": "code",
      "metadata": {
        "colab": {
          "base_uri": "https://localhost:8080/"
        },
        "id": "EAtuNTHG6AG7",
        "outputId": "cacf8a27-6c3f-4725-9069-e2c1ec7f91ab"
      },
      "source": [
        "c_ci(d_ratio)"
      ],
      "execution_count": 186,
      "outputs": [
        {
          "output_type": "execute_result",
          "data": {
            "text/plain": [
              "(0.103263664770246*pi**(-2.0)*(-0.000964039928079856*pi**(-1.0) + 0.0417185205671794*pi**(-2.0) + 0.598)**2 + 1)**(-0.5)*(-0.000964039928079856*pi**(-1.0) + 0.0417185205671794*pi**(-2.0) + 0.598)"
            ]
          },
          "metadata": {
            "tags": []
          },
          "execution_count": 186
        }
      ]
    },
    {
      "cell_type": "code",
      "metadata": {
        "colab": {
          "base_uri": "https://localhost:8080/"
        },
        "id": "_ZAFGHUuv04U",
        "outputId": "9c7e1708-2b58-4d15-be07-693736f9f05b"
      },
      "source": [
        "for p1 in p1_list_in:\n",
        "  c_ci_c = c_ci(d_ratio)\n",
        "  f_ci_c = force_ci(c_ci_c)\n",
        "  # fundamental of pipe flow\n",
        "  c_c_c = c_c(f_ci_c, d_ratio, p1, p_down, h_ratio)\n",
        "  # 圧縮性流体力学\n",
        "  c_c_2_c = c_c_2(f_ci_c, p1, p_down, h_ratio) \n",
        "  c_upsilon_0 = 1-(0.41 + 0.35 * (n_ratio**2))*((p1 - p_down)/(h_ratio * p1)) \n",
        "  c_upsilon_1= upsilon(c_ci_c, c_c_c, d_ratio, p1, p_down, h_ratio) \n",
        "  c_upsilon_2 = upsilon(c_ci_c, c_c_2_c, d_ratio, p1, p_down, h_ratio) \n",
        "  q1 = newton_raphson(f(q, n_diam, temp, p1, p_down, n_ratio, h_ratio, True, c_upsilon_1), q1=0.0009) \n",
        "  q1_2 = newton_raphson(f(q, n_diam, temp, p1, p_down, n_ratio, h_ratio, True, c_upsilon_2), q1=0.0009) \n",
        "  q1_0 = newton_raphson(f(q, n_diam, temp, p1, p_down, n_ratio, h_ratio, True, c_upsilon_0), q1=0.0009)\n",
        "  # q_calc_1 = q_calc(a_0, d_ratio, p1, 101325, c_c_c, h_ratio, True)\n",
        "  # q_calc_2 = q_calc(a_0, d_ratio, p1, 101325, c_c_2_c, h_ratio, True)\n",
        "  # q_i_0 = q_calc_i(a_0, c_ci_c, d_ratio, p1, 101325, 1.225)\n",
        "  # print(q1_2)\n",
        "  # print(q1_0)\n",
        "  q1_list_0_forward.append(q1_0) \n",
        "  q1_list_1_forward.append(q1) \n",
        "  q1_list_2_forward.append(q1_2)\n",
        "  # q_calc_list_1_forward.append(q_calc_1)\n",
        "  # q_calc_list_2_forward.append(q_calc_2)\n",
        "  # q_list_i_forward.append(q_i_0)"
      ],
      "execution_count": 187,
      "outputs": [
        {
          "output_type": "stream",
          "text": [
            "/usr/local/lib/python3.6/dist-packages/ipykernel_launcher.py:4: RuntimeWarning: invalid value encountered in double_scalars\n",
            "  after removing the cwd from sys.path.\n"
          ],
          "name": "stderr"
        }
      ]
    },
    {
      "cell_type": "code",
      "metadata": {
        "id": "pyo7RQa8BEZh"
      },
      "source": [
        "q1_list_cc_1_forward = [(i * 1e6) for i in q1_list_1_forward]\n",
        "q1_list_cc_2_forward = [(i * 1e6) for i in q1_list_2_forward]\n",
        "q1_list_cc_0_forward = [(i * 1e6) for i in q1_list_0_forward]\n",
        "# q_calc_list_cc_1_forward = [(i) for i in q_calc_list_1_forward]\n",
        "# q_calc_list_cc_2_forward = [(i) for i in q_calc_list_2_forward]\n",
        "# q_list_i_cc_forward = [(i) for i in q_list_i_forward]"
      ],
      "execution_count": 188,
      "outputs": []
    },
    {
      "cell_type": "code",
      "metadata": {
        "colab": {
          "base_uri": "https://localhost:8080/",
          "height": 265
        },
        "id": "1d9RIWHg-2Wv",
        "outputId": "9f381029-1d6f-4c41-ec14-50dbb41602bf"
      },
      "source": [
        "fig = plt.figure()\n",
        "ax = fig.add_subplot(1, 1, 1)\n",
        "ax.scatter(t_forward, q1_list_cc_1_forward, c='blue', label='c1')\n",
        "ax.scatter(t_forward, q1_list_cc_2_forward, c='red', label='c2')\n",
        "ax.scatter(t_forward, q1_list_cc_0_forward, c='green', label='c0')\n",
        "# ax.scatter(t_forward, q_calc_list_cc_1_forward, c='orange', label='calc1')\n",
        "# ax.scatter(t_forward, q_calc_list_cc_2_forward, c='yellow', label='calc2')\n",
        "# ax.scatter(t_forward, q_list_i_cc_forward, c='black', label='incomp')\n",
        "ax.legend(loc='upper left')\n",
        "fig.show()"
      ],
      "execution_count": 189,
      "outputs": [
        {
          "output_type": "display_data",
          "data": {
            "image/png": "[encoded data removed]",
            "text/plain": [
              "<Figure size 432x288 with 1 Axes>"
            ]
          },
          "metadata": {
            "tags": [],
            "needs_background": "light"
          }
        }
      ]
    },
    {
      "cell_type": "code",
      "metadata": {
        "id": "qFZtB3rxUpoV"
      },
      "source": [
        "q = Symbol('q')\n",
        "# d_ratio = (0.1022) ** (1 / 2)\n",
        "d_ratio = (1 / 2000) ** (1 / 2)\n",
        "n_diam = 0.0081235\n",
        "temp = 273 + 20\n",
        "p_up = 101325 \n",
        "n_ratio = 0.1022\n",
        "h_ratio = 1.4"
      ],
      "execution_count": 190,
      "outputs": []
    },
    {
      "cell_type": "code",
      "metadata": {
        "id": "cMs_3Sr_aVoF"
      },
      "source": [
        ""
      ],
      "execution_count": 190,
      "outputs": []
    },
    {
      "cell_type": "code",
      "metadata": {
        "id": "QfNxdFkVE4v6"
      },
      "source": [
        "t_back = np.linspace(np.pi, 2*np.pi, 500)\n",
        "sin_list = np.sin(t_back)\n",
        "p2_list_out = [(1000*i + 101325 ) for i in sin_list]\n",
        "q1_list_1_back = []\n",
        "q1_list_2_back = []\n",
        "q1_list_0_back = []"
      ],
      "execution_count": 191,
      "outputs": []
    },
    {
      "cell_type": "code",
      "metadata": {
        "colab": {
          "base_uri": "https://localhost:8080/"
        },
        "id": "rda1YGDvE7dk",
        "outputId": "516622bc-7952-4cc0-efa2-3ff54494b750"
      },
      "source": [
        "for p2 in p2_list_out:\n",
        "  c_ci_c = c_ci(d_ratio)\n",
        "  f_ci_c = force_ci(c_ci_c)\n",
        "  c_c_c = c_c(f_ci_c, d_ratio, p_down, p2, h_ratio)\n",
        "  c_c_2_c = c_c_2(f_ci_c, p_down, p2, h_ratio)\n",
        "  c_upsilon_0 = 1-(0.41 + 0.35 * (n_ratio**2))*((p_down - p2)/(h_ratio * p2))\n",
        "  c_upsilon_1= upsilon(c_ci_c, c_c_c, d_ratio, p_down, p2, h_ratio)\n",
        "  c_upsilon_2 = upsilon(c_ci_c, c_c_2_c, d_ratio, p_down, p2, h_ratio)\n",
        "  q1 = newton_raphson(f(q, n_diam, temp, p_down, p2, n_ratio, h_ratio, True, c_upsilon_1), q1=0.0009)\n",
        "  q1_2 = newton_raphson(f(q, n_diam, temp, p_down, p2, n_ratio, h_ratio, True, c_upsilon_2), q1=0.0009)\n",
        "  q1_0 = newton_raphson(f(q, n_diam, temp, p_down, p2, n_ratio, h_ratio, True, c_upsilon_0), q1=0.0009)\n",
        "  q1_list_0_back.append(q1_0)\n",
        "  q1_list_1_back.append(q1)\n",
        "  q1_list_2_back.append(q1_2)"
      ],
      "execution_count": 192,
      "outputs": [
        {
          "output_type": "stream",
          "text": [
            "/usr/local/lib/python3.6/dist-packages/ipykernel_launcher.py:4: RuntimeWarning: invalid value encountered in double_scalars\n",
            "  after removing the cwd from sys.path.\n"
          ],
          "name": "stderr"
        }
      ]
    },
    {
      "cell_type": "code",
      "metadata": {
        "id": "wcSOvgNoE71D"
      },
      "source": [
        "q1_list_cc_1_back = [-(i * 1e6) for i in q1_list_1_back]\n",
        "q1_list_cc_2_back = [-(i * 1e6) for i in q1_list_2_back]\n",
        "q1_list_cc_0_back = [-(i * 1e6) for i in q1_list_0_back]"
      ],
      "execution_count": 193,
      "outputs": []
    },
    {
      "cell_type": "code",
      "metadata": {
        "colab": {
          "base_uri": "https://localhost:8080/",
          "height": 265
        },
        "id": "p7s9iAx3FA01",
        "outputId": "73f56933-eb2e-452e-9fb1-115f1e28f903"
      },
      "source": [
        "fig = plt.figure()\n",
        "ax = fig.add_subplot(1, 1, 1)\n",
        "ax.scatter(t_forward, q1_list_cc_1_back, c='blue', label='c1')\n",
        "ax.scatter(t_forward, q1_list_cc_2_back, c='red', label='c2')\n",
        "ax.scatter(t_forward, q1_list_cc_0_back, c='green', label='c0')\n",
        "ax.legend(loc='upper left')\n",
        "fig.show()"
      ],
      "execution_count": 194,
      "outputs": [
        {
          "output_type": "display_data",
          "data": {
            "image/png": "[encoded data removed]",
            "text/plain": [
              "<Figure size 432x288 with 1 Axes>"
            ]
          },
          "metadata": {
            "tags": [],
            "needs_background": "light"
          }
        }
      ]
    },
    {
      "cell_type": "code",
      "metadata": {
        "colab": {
          "base_uri": "https://localhost:8080/",
          "height": 265
        },
        "id": "dqPStBOcGTZS",
        "outputId": "85e83982-e67f-4a99-d1ff-a9e46fe9c049"
      },
      "source": [
        "fig = plt.figure()\n",
        "ax = fig.add_subplot(1, 1, 1)\n",
        "ax.scatter(t_forward, q1_list_cc_1_forward, c='blue', label='c1')\n",
        "ax.scatter(t_back, q1_list_cc_1_back, c='blue')\n",
        "ax.scatter(t_forward, q1_list_cc_2_forward, c='red', label='c2')\n",
        "ax.scatter(t_back, q1_list_cc_2_back, c='red')\n",
        "ax.scatter(t_forward, q1_list_cc_0_forward, c='green', label='c0')\n",
        "ax.scatter(t_back, q1_list_cc_0_back, c='green')\n",
        "ax.legend(loc='upper left')\n",
        "fig.show()"
      ],
      "execution_count": 195,
      "outputs": [
        {
          "output_type": "display_data",
          "data": {
            "image/png": "[encoded data removed]",
            "text/plain": [
              "<Figure size 432x288 with 1 Axes>"
            ]
          },
          "metadata": {
            "tags": [],
            "needs_background": "light"
          }
        }
      ]
    },
    {
      "cell_type": "code",
      "metadata": {
        "id": "RkteFNOdSQp0"
      },
      "source": [
        ""
      ],
      "execution_count": 195,
      "outputs": []
    }
  ]
}