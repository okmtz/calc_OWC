{
  "nbformat": 4,
  "nbformat_minor": 0,
  "metadata": {
    "colab": {
      "name": "calc_flowrate.ipynb",
      "provenance": [],
      "authorship_tag": "ABX9TyMX1AupAmEJlvWsuC6WlN8H",
      "include_colab_link": true
    },
    "kernelspec": {
      "name": "python3",
      "display_name": "Python 3"
    }
  },
  "cells": [
    {
      "cell_type": "markdown",
      "metadata": {
        "id": "view-in-github",
        "colab_type": "text"
      },
      "source": [
        "<a href=\"https://colab.research.google.com/github/souken-b/calc_OWC/blob/main/calc_flowrate.ipynb\" target=\"_parent\"><img src=\"https://colab.research.google.com/assets/colab-badge.svg\" alt=\"Open In Colab\"/></a>"
      ]
    },
    {
      "cell_type": "code",
      "metadata": {
        "id": "JiTRc3Wh2Qwc"
      },
      "source": [
        "import numpy as np\n",
        "from sympy import *\n",
        "import matplotlib.pyplot as plt\n",
        "%matplotlib inline"
      ],
      "execution_count": 287,
      "outputs": []
    },
    {
      "cell_type": "markdown",
      "metadata": {
        "id": "c0O5O9gExtH1"
      },
      "source": [
        ""
      ]
    },
    {
      "cell_type": "code",
      "metadata": {
        "id": "ysbd7AXF2a3n"
      },
      "source": [
        "def f(q: 'flow_rate', n_diam: 'nozzle diameter', temp, p_up, p_down, n_ratio: 'nozzle ratio', h_ratio: 'specific heat ratio', flow_flg: 'flow direction flg') -> 'f(q)=aq^3+bq^2+q+d':\n",
        "  # air viscosity rate(Pa・s)\n",
        "  a_v_rate = 18.2 * 1e-6\n",
        "  # air temparature(K)\n",
        "  a_temp = 273 + 25\n",
        "  # sutherland constant\n",
        "  c_suther = 117\n",
        "  # viscosity rate\n",
        "  v_rate = a_v_rate * ((a_temp + c_suther) / (temp + c_suther)) * (temp / a_temp)**(3/2)\n",
        "  # upstream density\n",
        "  dens_up = (p_up * 28.93/1000) / (8.3144 * temp)\n",
        "  c_lambda = (4/(pi*n_diam))*(dens_up/v_rate)\n",
        "  # 膨張補正係数\n",
        "  exp_coef = 1\n",
        "  H = (exp_coef ** 2) * ((pi*((n_diam / 2)**2)) ** 2) * 2 * (p_up - p_down) / dens_up\n",
        "  # 実験値\n",
        "  # if (flow_flg):\n",
        "  #   # forward flow\n",
        "  #   A_0 = 0.601\n",
        "  #   B = 22.7\n",
        "  #   C = 815\n",
        "  #   D = 1401\n",
        "  # else:\n",
        "  # backward flow\n",
        "  A_0 = 0.601\n",
        "  B = 22.7\n",
        "  C = 815\n",
        "  D = 1401\n",
        "  \n",
        "  coef_a = c_lambda ** 2\n",
        "  coef_b = c_lambda * (B + C)\n",
        "  coef_c = B * C - (c_lambda ** 2) * (A_0 ** 2) *  H\n",
        "  coef_d = -(c_lambda * (A_0 ** 2) * D * H)\n",
        "  return (coef_a * q ** 3 + coef_b * q ** 2 + coef_c * q +coef_d)\n",
        "\n"
      ],
      "execution_count": 288,
      "outputs": []
    },
    {
      "cell_type": "code",
      "metadata": {
        "id": "qxLaPr9C3gWj"
      },
      "source": [
        "def newton_raphson(f, q1):\n",
        "  fq = diff(f, q)\n",
        "  threshold = 1e-6\n",
        "  res = threshold + 1\n",
        "\n",
        "  while res > threshold:\n",
        "    q2 = float(q1 - (f.subs(q, q1) / fq.subs(q, q1)))\n",
        "    res = np.abs(q2 - q1)\n",
        "    q1 = q2\n",
        "  return q2\n"
      ],
      "execution_count": 289,
      "outputs": []
    },
    {
      "cell_type": "code",
      "metadata": {
        "id": "dIkMw9LiGJaU"
      },
      "source": [
        "q = Symbol('q')\n",
        "n_diam = 0.81235\n",
        "temp = 273 + 25\n",
        "p_down = 101325 \n",
        "n_ratio = 0.1022\n",
        "h_ratio = 1.4"
      ],
      "execution_count": 290,
      "outputs": []
    },
    {
      "cell_type": "code",
      "metadata": {
        "id": "8X1g2Q9kv0JM"
      },
      "source": [
        "t = np.linspace(0, 2*np.pi, 500)\n",
        "sin_list = np.sin(t)\n",
        "p1_list = [(1.5*101325*i) for i in sin_list]\n",
        "q1_list = []"
      ],
      "execution_count": 291,
      "outputs": []
    },
    {
      "cell_type": "code",
      "metadata": {
        "id": "_ZAFGHUuv04U"
      },
      "source": [
        "for p1 in p1_list:\n",
        "  q1 = newton_raphson(f(q, n_diam, temp, p1, p_down, n_ratio, h_ratio, True), q1=10)\n",
        "  q1_list.append(q1)"
      ],
      "execution_count": 292,
      "outputs": []
    },
    {
      "cell_type": "code",
      "metadata": {
        "colab": {
          "base_uri": "https://localhost:8080/",
          "height": 293
        },
        "id": "Qyujxv18y1Bv",
        "outputId": "3e38ac28-ddd0-4a7a-812b-582c3eb83c84"
      },
      "source": [
        "plt.plot(t, q1_list)"
      ],
      "execution_count": 293,
      "outputs": [
        {
          "output_type": "execute_result",
          "data": {
            "text/plain": [
              "[<matplotlib.lines.Line2D at 0x7f85f5e767b8>]"
            ]
          },
          "metadata": {
            "tags": []
          },
          "execution_count": 293
        },
        {
          "output_type": "display_data",
          "data": {
            "image/png": "[encoded data removed]",
            "text/plain": [
              "<Figure size 432x288 with 1 Axes>"
            ]
          },
          "metadata": {
            "tags": [],
            "needs_background": "light"
          }
        }
      ]
    },
    {
      "cell_type": "code",
      "metadata": {
        "colab": {
          "base_uri": "https://localhost:8080/",
          "height": 265
        },
        "id": "1d9RIWHg-2Wv",
        "outputId": "b5385ece-2128-482a-a4d5-14353f50cee9"
      },
      "source": [
        "fig = plt.figure()\n",
        "ax = fig.add_subplot(1, 1, 1)\n",
        "ax.scatter(diff_p, q1_list)\n",
        "fig.show()"
      ],
      "execution_count": 177,
      "outputs": [
        {
          "output_type": "display_data",
          "data": {
            "image/png": "[encoded data removed]",
            "text/plain": [
              "<Figure size 432x288 with 1 Axes>"
            ]
          },
          "metadata": {
            "tags": [],
            "needs_background": "light"
          }
        }
      ]
    },
    {
      "cell_type": "code",
      "metadata": {
        "id": "qFZtB3rxUpoV"
      },
      "source": [
        ""
      ],
      "execution_count": null,
      "outputs": []
    }
  ]
}