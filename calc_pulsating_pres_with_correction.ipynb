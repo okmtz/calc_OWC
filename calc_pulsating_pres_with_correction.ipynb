{
  "nbformat": 4,
  "nbformat_minor": 0,
  "metadata": {
    "colab": {
      "name": "calc_pulsating_pres_with_correction.ipynb",
      "provenance": [],
      "authorship_tag": "ABX9TyMcorTcuQbbjJwpJT63hXmE",
      "include_colab_link": true
    },
    "kernelspec": {
      "name": "python3",
      "display_name": "Python 3"
    }
  },
  "cells": [
    {
      "cell_type": "markdown",
      "metadata": {
        "id": "view-in-github",
        "colab_type": "text"
      },
      "source": [
        "<a href=\"https://colab.research.google.com/github/souken-b/calc_OWC/blob/main/calc_pulsating_pres_with_correction.ipynb\" target=\"_parent\"><img src=\"https://colab.research.google.com/assets/colab-badge.svg\" alt=\"Open In Colab\"/></a>"
      ]
    },
    {
      "cell_type": "code",
      "metadata": {
        "id": "OTvBXplrOguv"
      },
      "source": [
        "import numpy as np\n",
        "from scipy.integrate import odeint\n",
        "import matplotlib.pyplot as plt\n",
        "%matplotlib inline"
      ],
      "execution_count": 309,
      "outputs": []
    },
    {
      "cell_type": "code",
      "metadata": {
        "id": "ntdYmjfiPeg-"
      },
      "source": [
        "global p_air, dens_air, h_ratio\n",
        "period = 3 # 周期\n",
        "n = 100000 # 周期あたりの分割数\n",
        "total_time = 4.5 * period\n",
        "#############\n",
        "# n_diam = 0.008123 # オリフィス直径(m)\n",
        "# D0 = 0.0254 # 円管の直径(m)\n",
        "# A = 5.1823028331816915 * 1e-05 # オリフィスの断面積(m2)\n",
        "# A0 = np.pi * ((D0 / 2) ** 2) # 円管の断面積(m2)\n",
        "# L0 = 0.12 # t=0での空気室高さ(m)\n",
        "# # L0 = 0.15830000000000002 # ピストンロッドの長さ(m)\n",
        "# L = 0.08 # ピストン変位振幅(m)\n",
        "# d_ratio = n_diam / D0 # 絞り直径比\n",
        "# n_ratio = d_ratio ** 2 # 絞り面積比\n",
        "##############\n",
        "n_diam = 0.035 # オリフィス直径(m)\n",
        "D0 = 0.5 # 円管の直径(m)\n",
        "A = 0.00096211275 # オリフィスの断面積(m2)\n",
        "A0 = 0.19242255 # 円管の断面積(m2)\n",
        "d_ratio = n_diam / D0 # 絞り直径比\n",
        "###############\n",
        "h_ratio = 1.4 # 比熱比\n",
        "p_air = 101325 # 大気圧(pa)\n",
        "dens_air = 1.225 # 空気の密度(kg/m3)"
      ],
      "execution_count": 310,
      "outputs": []
    },
    {
      "cell_type": "code",
      "metadata": {
        "id": "kTzNqJeWPgfC"
      },
      "source": [
        "Zh = 0.02750688\n",
        "Zh0 = 0.625\n",
        "phase_diff = 0.7563"
      ],
      "execution_count": 311,
      "outputs": []
    },
    {
      "cell_type": "code",
      "metadata": {
        "id": "GH97SM_6S7_o"
      },
      "source": [
        "def calc_density(p):\n",
        "  dens = dens_air * ((p / p_air) ** (1/h_ratio))\n",
        "  return dens"
      ],
      "execution_count": 312,
      "outputs": []
    },
    {
      "cell_type": "code",
      "metadata": {
        "id": "AIMFyF6pPjE-"
      },
      "source": [
        "def incomp_condensation_coef(d_ratio)->'非圧縮性の縮流係数':\n",
        "  # 流量係数\n",
        "  flow_coef = 0.598 - 0.003 * (d_ratio ** 2) + 0.404 * (d_ratio ** 4)\n",
        "  return (flow_coef / ((1 + (d_ratio ** 4) * (flow_coef ** 2)) ** (1/2)))"
      ],
      "execution_count": 313,
      "outputs": []
    },
    {
      "cell_type": "code",
      "metadata": {
        "id": "3dPhTdc8PlL7"
      },
      "source": [
        "def incomp_force_coef(c_ci)->'非圧縮性力欠損係数':\n",
        "  return ((1 / c_ci) - (1 / (2 * (c_ci ** 2))))"
      ],
      "execution_count": 314,
      "outputs": []
    },
    {
      "cell_type": "code",
      "metadata": {
        "id": "sijNQCc3PnPD"
      },
      "source": [
        "def comp_condensation_coef(f_ci_c, p_up, p_down)->'圧縮性の縮流係数':\n",
        "  p_ratio = p_up / p_down\n",
        "  h_ratio_rev = 1/ h_ratio\n",
        "  return ((1 / (2 * f_ci_c)) * (p_ratio ** h_ratio_rev) * (1 - (1 - ((2 * f_ci_c * (1 - h_ratio_rev)) * (1 - (1 / p_ratio)) / (1- (p_ratio) ** (h_ratio_rev - 1))))  ** (1/2)))"
      ],
      "execution_count": 315,
      "outputs": []
    },
    {
      "cell_type": "code",
      "metadata": {
        "id": "GnmsuXcxfgaI"
      },
      "source": [
        "def calc_forward_p_delta(p_prev, p_current, f_ci, h, dens_prev, dens_current, dV0dt, dV02dt2, A, A0)->'押出過程での圧力勾配を計算':\n",
        "  ########## i番目の流量を求める #############\n",
        "  if (p_prev > p_air):\n",
        "    # 押出過程\n",
        "    c_c_prev = comp_condensation_coef(f_ci, p_prev, p_air)\n",
        "    flow_prev = forward_flow(c_c_prev, A, p_prev, dens_prev)\n",
        "  else:\n",
        "    # 吸込過程\n",
        "    c_c_prev = comp_condensation_coef(f_ci, p_air, p_prev)\n",
        "    flow_prev = (-1) * back_flow(c_c_prev, A, p_prev)\n",
        "  ######################################\n",
        "  \n",
        "  ########## i+1番目の流量を求める###########\n",
        "  c_c_current = comp_condensation_coef(f_ci, p_current, p_air)\n",
        "  flow_current = forward_flow(c_c_current, A, p_current, dens_current)\n",
        "  ######################################\n",
        "\n",
        "  p_delta = forward_delta_p(dens_current, dV0dt, dV02dt2, flow_prev, flow_current, h, A0)\n",
        "  return p_delta\n"
      ],
      "execution_count": 316,
      "outputs": []
    },
    {
      "cell_type": "code",
      "metadata": {
        "id": "LxeXmjoglY3F"
      },
      "source": [
        "def calc_back_p_delta(p_prev, p_current, f_ci, h, dens_prev, dens_current, dV0dt, dV02dt2, A, A0)->'吸込過程での圧力勾配を計算':\n",
        "  ########## i番目の流量を求める #############\n",
        "  if (p_prev > p_air):\n",
        "    # 押出過程\n",
        "    c_c_prev = comp_condensation_coef(f_ci, p_prev, p_air)\n",
        "    flow_prev = forward_flow(c_c_prev, A, p_prev, dens_prev)\n",
        "  else:\n",
        "    # 吸込過程\n",
        "    c_c_prev = comp_condensation_coef(f_ci, p_air, p_prev)\n",
        "    flow_prev = (-1) * back_flow(c_c_prev, A, p_prev)\n",
        "  ######################################\n",
        "  \n",
        "  ########## i+1番目の流量を求める###########\n",
        "  c_c_current = comp_condensation_coef(f_ci, p_air, p_current)\n",
        "  flow_current = (-1) * back_flow(c_c_current, A, p_current)\n",
        "  ######################################\n",
        "\n",
        "  p_delta = back_delta_p(dens_current, dV0dt, dV02dt2, flow_prev, flow_current, h, A0)\n",
        "  return p_delta"
      ],
      "execution_count": 317,
      "outputs": []
    },
    {
      "cell_type": "code",
      "metadata": {
        "id": "z-0Z8AJtPpGK"
      },
      "source": [
        "def runge_kutta(h: '時間分割', t, total_split, c_freq, phase_diff, p, p_delta, V0, dV0dt, dV02dt2, d_ratio, A0, A, Zh, Zh0)->'Runge-Kutta法を用いた圧力の計算, 圧力勾配, 空気室内容積変位の計算':\n",
        "  # 非圧縮性の縮流係数\n",
        "  c_ci = incomp_condensation_coef(d_ratio)\n",
        "  # 非圧縮性の力欠損係数\n",
        "  f_i = incomp_force_coef(c_ci)\n",
        "\n",
        "  # 方程式を解くための反復計算\n",
        "  for i in range(total_split -1):\n",
        "    #######runge-kutta法により圧力を計算#######\n",
        "    arg_list = [c_freq, d_ratio, V0[i], dV0dt[i], A, f_i] # dpdtの引数\n",
        "    k_1 = h * calc_dpdt(p[i], t[i], *arg_list)\n",
        "    k_2 = h * calc_dpdt(p[i] + k_1 / 2 , t[i] + h/2, *arg_list)\n",
        "    k_3 = h * calc_dpdt(p[i] + k_2 / 2 , t[i] + h/2, *arg_list)\n",
        "    k_4 = h * calc_dpdt(p[i] + k_3, t[i] + h, *arg_list)\n",
        "    p[i+1] = p[i] + 1/6 * (k_1 + 2 * k_2 + 2 * k_3 + k_4)\n",
        "    #####################################\n",
        "\n",
        "    ###########空気室内容積を計算############\n",
        "    V0[i+1] = (Zh0 + Zh * np.cos(c_freq * t[i] + phase_diff)) * A0\n",
        "    dV0dt[i+1] = ((-1) * c_freq * Zh * np.sin(c_freq * t[i] + phase_diff)) * A0\n",
        "    dV02dt2[i+1] = ((-1) * ((c_freq) ** 2) * Zh * np.cos(c_freq * t[i] + phase_diff)) * A0\n",
        "    #####################################\n",
        "\n",
        "    ##########圧力勾配を計算################\n",
        "    dens_prev = calc_density(p[i])\n",
        "    dens_current = calc_density(p[i+1])\n",
        "\n",
        "    arg_list_2 = [p[i], p[i+1], f_i, h, dens_prev, dens_current, dV0dt[i+1], dV02dt2[i+1], A, A0] # calc_p_deltaの引数\n",
        "    p_delta[i+1] = calc_forward_p_delta(*arg_list_2) if (p[i+1] > p_air) else calc_back_p_delta(*arg_list_2)\n",
        "    #####################################\n",
        "\n",
        "    # pがnanの場合はbreakさせる\n",
        "    if (np.isnan(p[i+1])):\n",
        "      break\n",
        "\n",
        "  return t, p, V0, p_delta"
      ],
      "execution_count": 318,
      "outputs": []
    },
    {
      "cell_type": "code",
      "metadata": {
        "id": "bU7zKPA2Pueo"
      },
      "source": [
        "def call_calc_state(n, period, total_time, phase_diff, d_ratio, A0, A, Zh, Zh0)->'圧力, 圧力勾配, 空気室内容積変位計算の呼び出し':\n",
        "  h = period / n # 分割時間\n",
        "  t = np.arange(0, total_time, h)\n",
        "  c_freq = 2 * np.pi / period # 円振動数\n",
        "  total_split = len(t)\n",
        "  p, V0, dV0dt, dV02dt2, p_delta = [np.empty(total_split) for i in range(5)]\n",
        "  p[0], p_delta[0] = p_air + 100, 20\n",
        "  V0[0], dV0dt[0], dV02dt2[0] = (Zh0 + Zh * np.cos(phase_diff)) * A0, ((-1) * c_freq * Zh * np.sin(phase_diff)) * A0, ((-1) * ((c_freq) ** 2) * Zh * np.cos(phase_diff)) * A0\n",
        "\n",
        "  t, p, V0, p_delta = runge_kutta(h, t, total_split, c_freq, phase_diff, p, p_delta, V0, dV0dt, dV02dt2, d_ratio, A0, A, Zh, Zh0)\n",
        "  \n",
        "  return t, p, V0, p_delta"
      ],
      "execution_count": 319,
      "outputs": []
    },
    {
      "cell_type": "code",
      "metadata": {
        "id": "Z72zLcvvPzaB"
      },
      "source": [
        "def forward_flow(c_c, A, p_up, dens_up)->'押出流量':\n",
        "  h_ratio_rev = 1 / h_ratio\n",
        "  return  (dens_up / dens_air) * (c_c * A  * ((p_up / p_air) ** (-1 * h_ratio_rev)) * (((2 / (1 - h_ratio_rev)) * (p_up / dens_up) * (1 - (p_up / p_air) ** (h_ratio_rev - 1))) ** (1 / 2)))"
      ],
      "execution_count": 320,
      "outputs": []
    },
    {
      "cell_type": "code",
      "metadata": {
        "id": "RzdCfC6AP1ZA"
      },
      "source": [
        "def back_flow(c_c, A, p_down)->'吸込流量':\n",
        "  h_ratio_rev = 1 / h_ratio\n",
        "  return  c_c * A  * ((p_air / p_down) ** (-1 * h_ratio_rev)) * (((2 / (1 - h_ratio_rev)) * (p_air / dens_air) * (1 - (p_air / p_down) ** (h_ratio_rev - 1))) ** (1 / 2))"
      ],
      "execution_count": 321,
      "outputs": []
    },
    {
      "cell_type": "code",
      "metadata": {
        "id": "jNmcIpSbYsXB"
      },
      "source": [
        "def forward_delta_p(dens, dV0dt, dV02dt2, flow_prev, flow_current, delta_t, A0)->'押出圧力補正':\n",
        "  flow_diff = (flow_current - flow_prev) / delta_t # 流量変動\n",
        "  delta_p = (-1) * ((dens ** 2) / (A0 ** 2)) * (dV02dt2 + (dens_air / dens) * flow_diff + (1 / 2) * (dV0dt + (1 / dens) * (dens_air * flow_current)) * dV0dt)\n",
        "  return delta_p"
      ],
      "execution_count": 322,
      "outputs": []
    },
    {
      "cell_type": "code",
      "metadata": {
        "id": "KxRfA7_DadlD"
      },
      "source": [
        "def back_delta_p(dens, dV0dt, dV02dt2, flow_prev, flow_current, delta_t, A0)->'吸込圧力補正':\n",
        "  flow_diff = (flow_current - flow_prev) / delta_t # 流量変動\n",
        "  delta_p = (-1) * ((dens ** 2) / (A0 ** 2)) * (dV02dt2 + ((7/2) * ((dens_air / dens) ** h_ratio) * (flow_diff)) - ((5/2) * (dens_air / dens) * (flow_diff)) + (1/2) * (dV0dt + ((1 / 2) * ((7 * ((dens_air / dens) ** (h_ratio + 1))) - 5) * ( 1 / dens) * (dens_air * flow_current))) * dV0dt)\n",
        "  return delta_p"
      ],
      "execution_count": 323,
      "outputs": []
    },
    {
      "cell_type": "code",
      "metadata": {
        "id": "ViICSmmGP3L0"
      },
      "source": [
        "def calc_dpdt(p, t, c_freq, d_ratio, V0, dV0dt, A, f_ci)->'圧力変動':\n",
        "  dens = calc_density(p)\n",
        "  if (p > p_air):\n",
        "    # 押出過程\n",
        "    c_c = comp_condensation_coef(f_ci, p, p_air)\n",
        "    flow = forward_flow(c_c, A, p, dens)\n",
        "    dpdt = (-7/5) * p * ((dV0dt / V0) + ((dens_air / dens) * (flow / V0)))\n",
        "  else:\n",
        "    # 吸込過程\n",
        "    c_c = comp_condensation_coef(f_ci, p_air, p)\n",
        "    flow = back_flow(c_c, A, p)\n",
        "    dpdt = (-7/5) * p * ((dV0dt / V0) + (((dens_air / dens) ** h_ratio) * (((-1) * flow) / V0)))\n",
        "  return dpdt"
      ],
      "execution_count": 324,
      "outputs": []
    },
    {
      "cell_type": "code",
      "metadata": {
        "id": "UEJ9HAalP5lx"
      },
      "source": [
        "result = call_calc_state(n, period, total_time, phase_diff, d_ratio, A0, A, Zh, Zh0)\n",
        "t_list, p_list, v0_list, p_delta_list = result"
      ],
      "execution_count": 325,
      "outputs": []
    },
    {
      "cell_type": "code",
      "metadata": {
        "id": "lO5g1XWNP77s"
      },
      "source": [
        "p_air_list = [p_air] * len(p_list)\n",
        "p_list_diff = p_list - p_air_list"
      ],
      "execution_count": 326,
      "outputs": []
    },
    {
      "cell_type": "code",
      "metadata": {
        "id": "Rkcc0UMPnxfz"
      },
      "source": [
        "p_list_correct = p_list + p_delta_list"
      ],
      "execution_count": 327,
      "outputs": []
    },
    {
      "cell_type": "code",
      "metadata": {
        "id": "1ftkNXu_qpS-"
      },
      "source": [
        "def calc_flow(f_ci, p_list):\n",
        "  flow_list = []\n",
        "  for p in p_list:\n",
        "    dens = calc_density(p)\n",
        "    if (p > p_air):\n",
        "      c_c = comp_condensation_coef(f_ci, p, p_air)\n",
        "      flow = forward_flow(c_c, A, p, dens)\n",
        "    else:\n",
        "      c_c = comp_condensation_coef(f_ci, p_air, p)\n",
        "      flow = (-1) * back_flow(c_c, A, p)\n",
        "    flow_list.append(flow)\n",
        "  return flow_list\n"
      ],
      "execution_count": 328,
      "outputs": []
    },
    {
      "cell_type": "code",
      "metadata": {
        "id": "SCr3GTiksJkg"
      },
      "source": [
        "# 非圧縮性の縮流係数\n",
        "c_ci = incomp_condensation_coef(d_ratio)\n",
        "# 非圧縮性の力欠損係数\n",
        "f_ci = incomp_force_coef(c_ci)\n",
        "flow = calc_flow(f_ci, p_list)\n",
        "flow_correct = calc_flow(f_ci, p_list_correct)"
      ],
      "execution_count": 329,
      "outputs": []
    },
    {
      "cell_type": "code",
      "metadata": {
        "colab": {
          "base_uri": "https://localhost:8080/",
          "height": 265
        },
        "id": "z4X9G0norbqC",
        "outputId": "7d321958-d974-4028-e3f7-dd708760134e"
      },
      "source": [
        "fig = plt.figure()\n",
        "ax = fig.add_subplot(1, 1, 1)\n",
        "ax.scatter(t_list, flow, c='red')\n",
        "ax.scatter(t_list, flow_correct, c='blue')\n",
        "plt.show()"
      ],
      "execution_count": 330,
      "outputs": [
        {
          "output_type": "display_data",
          "data": {
            "image/png": "[encoded data removed]",
            "text/plain": [
              "<Figure size 432x288 with 1 Axes>"
            ]
          },
          "metadata": {
            "tags": [],
            "needs_background": "light"
          }
        }
      ]
    },
    {
      "cell_type": "code",
      "metadata": {
        "id": "ijk2dNNS7Dkl"
      },
      "source": [
        "p_list_diff = p_list - p_air_list\n",
        "p_list_diff_correct = p_list_correct - p_air_list"
      ],
      "execution_count": 331,
      "outputs": []
    },
    {
      "cell_type": "code",
      "metadata": {
        "colab": {
          "base_uri": "https://localhost:8080/",
          "height": 265
        },
        "id": "PNX19UT2P9_D",
        "outputId": "5f3dde90-c217-4946-d817-62a9792d7b0b"
      },
      "source": [
        "fig = plt.figure()\n",
        "ax = fig.add_subplot(1, 1, 1)\n",
        "ax.scatter(t_list, p_list_diff, c='red')\n",
        "ax.scatter(t_list, p_list_diff_correct, c='blue')\n",
        "plt.show()"
      ],
      "execution_count": 332,
      "outputs": [
        {
          "output_type": "display_data",
          "data": {
            "image/png": "[encoded data removed]",
            "text/plain": [
              "<Figure size 432x288 with 1 Axes>"
            ]
          },
          "metadata": {
            "tags": [],
            "needs_background": "light"
          }
        }
      ]
    },
    {
      "cell_type": "code",
      "metadata": {
        "colab": {
          "base_uri": "https://localhost:8080/",
          "height": 269
        },
        "id": "nawkel6TsMA4",
        "outputId": "481530d6-3fb3-4420-a916-7c6304a73c61"
      },
      "source": [
        "fig = plt.figure()\n",
        "ax = fig.add_subplot(1, 1, 1)\n",
        "ax.scatter(t_list, p_delta_list, c='red')\n",
        "plt.ylim(-30, 30)\n",
        "plt.show()"
      ],
      "execution_count": 333,
      "outputs": [
        {
          "output_type": "display_data",
          "data": {
            "image/png": "[encoded data removed]",
            "text/plain": [
              "<Figure size 432x288 with 1 Axes>"
            ]
          },
          "metadata": {
            "tags": [],
            "needs_background": "light"
          }
        }
      ]
    },
    {
      "cell_type": "code",
      "metadata": {
        "colab": {
          "base_uri": "https://localhost:8080/"
        },
        "id": "8ULWtfcfHBKj",
        "outputId": "290b070e-c606-4e35-fa24-e162623808ec"
      },
      "source": [
        "from google.colab import drive\n",
        "drive.mount('/content/drive')"
      ],
      "execution_count": 334,
      "outputs": [
        {
          "output_type": "stream",
          "text": [
            "Drive already mounted at /content/drive; to attempt to forcibly remount, call drive.mount(\"/content/drive\", force_remount=True).\n"
          ],
          "name": "stdout"
        }
      ]
    },
    {
      "cell_type": "code",
      "metadata": {
        "id": "knTS2sjZHJ4W"
      },
      "source": [
        "import pandas as pd\n",
        "exp_data = pd.read_csv('drive/My Drive/a375_3_exp.csv', header=None)"
      ],
      "execution_count": 335,
      "outputs": []
    },
    {
      "cell_type": "code",
      "metadata": {
        "id": "OlloIpm7HvD_"
      },
      "source": [
        "exp_time = exp_data[0]\n",
        "exp_pres = exp_data[1]"
      ],
      "execution_count": 336,
      "outputs": []
    },
    {
      "cell_type": "code",
      "metadata": {
        "colab": {
          "base_uri": "https://localhost:8080/",
          "height": 265
        },
        "id": "vauavucBHxaG",
        "outputId": "e9b8226b-b123-453d-82ad-a45cf2021208"
      },
      "source": [
        "fig = plt.figure()\n",
        "ax = fig.add_subplot(1, 1, 1)\n",
        "ax.scatter(t_list, p_list_diff, c='red')\n",
        "ax.scatter(t_list, p_list_diff_correct, c='blue')\n",
        "ax.scatter(exp_time, exp_pres, c='orange')\n",
        "plt.show()"
      ],
      "execution_count": 337,
      "outputs": [
        {
          "output_type": "display_data",
          "data": {
            "image/png": "[encoded data removed]",
            "text/plain": [
              "<Figure size 432x288 with 1 Axes>"
            ]
          },
          "metadata": {
            "tags": [],
            "needs_background": "light"
          }
        }
      ]
    },
    {
      "cell_type": "code",
      "metadata": {
        "id": "Un568oLTIYjz"
      },
      "source": [
        ""
      ],
      "execution_count": 337,
      "outputs": []
    }
  ]
}