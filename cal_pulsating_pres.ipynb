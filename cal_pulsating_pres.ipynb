{
  "nbformat": 4,
  "nbformat_minor": 0,
  "metadata": {
    "colab": {
      "name": "cal_pulsating_pres.ipynb",
      "provenance": [],
      "authorship_tag": "ABX9TyMUobnKX+C3e2YMUX9s4L5I",
      "include_colab_link": true
    },
    "kernelspec": {
      "name": "python3",
      "display_name": "Python 3"
    }
  },
  "cells": [
    {
      "cell_type": "markdown",
      "metadata": {
        "id": "view-in-github",
        "colab_type": "text"
      },
      "source": [
        "<a href=\"https://colab.research.google.com/github/souken-b/calc_OWC/blob/main/cal_pulsating_pres.ipynb\" target=\"_parent\"><img src=\"https://colab.research.google.com/assets/colab-badge.svg\" alt=\"Open In Colab\"/></a>"
      ]
    },
    {
      "cell_type": "code",
      "metadata": {
        "id": "JOP2iXKajqnu"
      },
      "source": [
        "import numpy as np\n",
        "from scipy.integrate import odeint\n",
        "import matplotlib.pyplot as plt\n",
        "%matplotlib inline"
      ],
      "execution_count": 456,
      "outputs": []
    },
    {
      "cell_type": "code",
      "metadata": {
        "id": "SgI4KVsokp0r"
      },
      "source": [
        "T = 3 # 周期\n",
        "n = 100 # 分割数\n",
        "#############\n",
        "# n_diam = 0.008123 # オリフィス直径(m)\n",
        "# D0 = 0.0254 # 円管の直径(m)\n",
        "# A = 5.1823028331816915 * 1e-05 # オリフィスの断面積(m2)\n",
        "# A0 = np.pi * ((D0 / 2) ** 2) # 円管の断面積(m2)\n",
        "# L0 = 0.12 # t=0での空気室高さ(m)\n",
        "# # L0 = 0.15830000000000002 # ピストンロッドの長さ(m)\n",
        "# L = 0.08 # ピストン変位振幅(m)\n",
        "# d_ratio = n_diam / D0 # 絞り直径比\n",
        "# n_ratio = d_ratio ** 2 # 絞り面積比\n",
        "##############\n",
        "n_diam = 0.035 # オリフィス直径(m)\n",
        "D0 = 0.5 # 円管の直径(m)\n",
        "A = 0.00096211275 # オリフィスの断面積(m2)\n",
        "A0 = 0.19242255 # 円管の断面積(m2)\n",
        "L0 = 0.625 # t=0での空気室高さ(m)\n",
        "L = 0.032 # ピストン変位振幅(m)\n",
        "d_ratio = n_diam / D0 # 絞り直径比\n",
        "n_ratio = d_ratio ** 2 # 絞り面積比\n",
        "###############\n",
        "h_ratio = 1.4 # 比熱比\n",
        "p_air = 101325 # 大気圧(pa)\n",
        "dens_air = 1.225 # 空気の密度(kg/m3)\n",
        "p_0 = p_air + 10 # 圧力の初期値"
      ],
      "execution_count": 457,
      "outputs": []
    },
    {
      "cell_type": "code",
      "metadata": {
        "id": "5z347Vl1E_Ly"
      },
      "source": [
        "L_h = 0.046\n",
        "L_h_0 = 0.625"
      ],
      "execution_count": 458,
      "outputs": []
    },
    {
      "cell_type": "code",
      "metadata": {
        "id": "p85eg4xFtsrJ"
      },
      "source": [
        "def c_ci(d_ratio)->'非圧縮性の縮流係数':\n",
        "  # flow coefficient\n",
        "  f_coef = 0.598 - 0.003 * (d_ratio ** 2) + 0.404 * (d_ratio ** 4)\n",
        "  return (f_coef / ((1 + (d_ratio ** 4) * (f_coef ** 2)) ** (1/2)))"
      ],
      "execution_count": 459,
      "outputs": []
    },
    {
      "cell_type": "code",
      "metadata": {
        "id": "9uWV2IKRttpY"
      },
      "source": [
        "def force_ci(c_ci)->'非圧縮性力欠損係数':\n",
        "  return ((1 / c_ci) - (1 / (2 * (c_ci ** 2))))"
      ],
      "execution_count": 460,
      "outputs": []
    },
    {
      "cell_type": "code",
      "metadata": {
        "id": "p314LN9-twgo"
      },
      "source": [
        "def c_c(f_ci_c, p_up, p_down, h_ratio)->'圧縮性の縮流係数':\n",
        "  p_ratio = p_up / p_down\n",
        "  h_ratio_rev = 1/ h_ratio\n",
        "  return ((1 / (2 * f_ci_c)) * (p_ratio ** h_ratio_rev) * (1 - (1 - ((2 * f_ci_c * (1 - h_ratio_rev)) * (1 - (1 / p_ratio)) / (1- (p_ratio) ** (h_ratio_rev - 1))))  ** (1/2)))"
      ],
      "execution_count": 461,
      "outputs": []
    },
    {
      "cell_type": "code",
      "metadata": {
        "id": "H1hYi3K4PNSe"
      },
      "source": [
        "def runge_kutta(t_interval, t_list, c_freq, p_list, V0_list, dV0dt_list, p_air, dens_air, T, d_ratio, h_ratio, A0, L, L0, A, f_ci_c, L_h, L_h_0):\n",
        "  t = t_list\n",
        "  p = p_list\n",
        "  V0 = V0_list\n",
        "  dV0dt = dV0dt_list\n",
        "  h = t_interval\n",
        "\n",
        "\n",
        "  # 方程式を解くための反復計算\n",
        "  for i in range(len(t) -1):\n",
        "    const_args = [p_air, dens_air, T, d_ratio, h_ratio, V0[i], dV0dt[i], A, f_ci_c]\n",
        "    k_1 = h * dpdt(p[i], t[i], *const_args)\n",
        "    k_2 = h * dpdt(p[i] + k_1 / 2 , t[i] + h/2, *const_args)\n",
        "    k_3 = h * dpdt(p[i] + k_2 / 2 , t[i] + h/2, *const_args)\n",
        "    k_4 = h * dpdt(p[i] + k_3, t[i] + h, *const_args)\n",
        "    p[i+1] = p[i] + 1/6 * (k_1 + 2 * k_2 + 2 * k_3 + k_4)\n",
        "    if (np.isnan(p[i+1])):\n",
        "      break\n",
        "    # V0[i+1] =  (L0 + L*np.cos(c_freq * t[i])) * A0\n",
        "    V0[i+1] = (L_h_0 + L_h * np.cos(c_freq * t[i])) * A0\n",
        "    dV0dt[i+1] = ((-1) * c_freq * L_h * np.sin(c_freq * t[i])) * A0\n",
        "  return t, p, V0"
      ],
      "execution_count": 462,
      "outputs": []
    },
    {
      "cell_type": "code",
      "metadata": {
        "id": "upsdnnKzkEVQ"
      },
      "source": [
        "def func_dydt(y , t):\n",
        "  dydt = -y\n",
        "  return dydt"
      ],
      "execution_count": 463,
      "outputs": []
    },
    {
      "cell_type": "code",
      "metadata": {
        "id": "g5l9XDAakeki"
      },
      "source": [
        "def calc_pressure(n, T, p_0, p_air, dens_air, d_ratio, h_ratio, A0, L, L0, A, f_ci_c, L_h, L_h_0):\n",
        "  h = T / n\n",
        "  t = np.arange(0, 4*T, h)\n",
        "  p = np.empty(len(t))\n",
        "  p[0] = p_0\n",
        "  V0 = np.empty(len(t))\n",
        "  dV0dt = np.empty(len(t))\n",
        "  V0[0] = (L_h_0 + L_h)*A0\n",
        "  dV0dt[0] = 0\n",
        "\n",
        "  c_freq = 2 * np.pi / T\n",
        "  t, p, V0 = runge_kutta(h, t, c_freq, p, V0, dV0dt, p_air, dens_air, T, d_ratio, h_ratio, A0, L, L0, A, f_ci_c, L_h, L_h_0)\n",
        "  \n",
        "  return t, p, V0"
      ],
      "execution_count": 464,
      "outputs": []
    },
    {
      "cell_type": "code",
      "metadata": {
        "id": "nj493hgEp50P"
      },
      "source": [
        "def forward_flow(c_c_c, A, p_up, p_air, dens_up, dens_air, h_ratio)->'押出流量':\n",
        "  h_ratio_rev = 1 / h_ratio\n",
        "  return  (dens_up / dens_air) * (c_c_c * A  * ((p_up / p_air) ** (-1 * h_ratio_rev)) * (((2 / (1 - h_ratio_rev)) * (p_up / dens_up) * (1 - (p_up / p_air) ** (h_ratio_rev - 1))) ** (1 / 2)))"
      ],
      "execution_count": 465,
      "outputs": []
    },
    {
      "cell_type": "code",
      "metadata": {
        "id": "XF0WGuO6wzRQ"
      },
      "source": [
        "def back_flow(c_c_c, A, p_air, p_down, dens_air, h_ratio)->'吸込流量':\n",
        "  h_ratio_rev = 1 / h_ratio\n",
        "  return  c_c_c * A  * ((p_air / p_down) ** (-1 * h_ratio_rev)) * (((2 / (1 - h_ratio_rev)) * (p_air / dens_air) * (1 - (p_air / p_down) ** (h_ratio_rev - 1))) ** (1 / 2))"
      ],
      "execution_count": 466,
      "outputs": []
    },
    {
      "cell_type": "code",
      "metadata": {
        "id": "S3MZaNJikvKz"
      },
      "source": [
        "def dpdt(p0, t, p_air, dens_air, T, d_ratio, h_ratio, V0, dV0dt, A, f_ci_c)->'圧力変化':\n",
        "  # 円振動数ω\n",
        "  c_freq = 2 * np.pi / T\n",
        "  h_ratio_rev = 1 / h_ratio\n",
        "  dens0 = dens_air * ((p0 / p_air) ** (h_ratio_rev))\n",
        "  if (p0 > p_air):\n",
        "    c_c_c = c_c(f_ci_c, p0, p_air, h_ratio)\n",
        "    flow = forward_flow(c_c_c, A, p0, p_air, dens0, dens_air, h_ratio)\n",
        "    dpdt = (-7/5) * p0 * ((dV0dt / V0) + ((dens_air / dens0) * (flow / V0)))\n",
        "  else:\n",
        "    c_c_c = c_c(f_ci_c, p_air, p0, h_ratio)\n",
        "    flow = back_flow(c_c_c, A, p_air, p0, dens_air, h_ratio)\n",
        "    dpdt = (-7/5) * p0 * ((dV0dt / V0) + (((dens_air / dens0) ** h_ratio) * (((-1) * flow) / V0)))\n",
        "  return dpdt"
      ],
      "execution_count": 467,
      "outputs": []
    },
    {
      "cell_type": "code",
      "metadata": {
        "id": "36McBuDckxXY"
      },
      "source": [
        "c_ci_c = c_ci(d_ratio)\n",
        "f_ci_c = force_ci(c_ci_c)\n",
        "result = calc_pressure(n, T, p_0, p_air, dens_air, d_ratio, h_ratio, A0, L, L0, A, f_ci_c, L_h, L_h_0)\n",
        "t_list, p_list, v0_list = result"
      ],
      "execution_count": 468,
      "outputs": []
    },
    {
      "cell_type": "code",
      "metadata": {
        "id": "mHI_FydqyhVw"
      },
      "source": [
        "p_air_list = [p_air] * len(p_list)\n",
        "p_list_diff = p_list - p_air_list"
      ],
      "execution_count": 469,
      "outputs": []
    },
    {
      "cell_type": "code",
      "metadata": {
        "colab": {
          "base_uri": "https://localhost:8080/",
          "height": 265
        },
        "id": "arWfDwPK92cd",
        "outputId": "f63c6a50-cb66-4835-de31-60f6136e694d"
      },
      "source": [
        "fig = plt.figure()\n",
        "ax = fig.add_subplot(1, 1, 1)\n",
        "# ax.scatter(t_list, p_list, c='blue')\n",
        "# ax.scatter(t_list, p_air_list, c='green')\n",
        "ax.scatter(t_list, p_list_diff, c='red')\n",
        "plt.show()"
      ],
      "execution_count": 470,
      "outputs": [
        {
          "output_type": "display_data",
          "data": {
            "image/png": "[encoded data removed]",
            "text/plain": [
              "<Figure size 432x288 with 1 Axes>"
            ]
          },
          "metadata": {
            "tags": [],
            "needs_background": "light"
          }
        }
      ]
    },
    {
      "cell_type": "code",
      "metadata": {
        "colab": {
          "base_uri": "https://localhost:8080/"
        },
        "id": "Rzh2uPay7luA",
        "outputId": "3c8cc592-86df-4d48-b94a-c0f9fb8ef4dc"
      },
      "source": [
        "(v0_list.max() - v0_list.min())/2"
      ],
      "execution_count": 471,
      "outputs": [
        {
          "output_type": "execute_result",
          "data": {
            "text/plain": [
              "0.008851437300000008"
            ]
          },
          "metadata": {
            "tags": []
          },
          "execution_count": 471
        }
      ]
    },
    {
      "cell_type": "code",
      "metadata": {
        "colab": {
          "base_uri": "https://localhost:8080/",
          "height": 269
        },
        "id": "N5tycSi_5O9a",
        "outputId": "40a2ef25-d9cf-44dc-cf02-22a0d13440d6"
      },
      "source": [
        "fig2 = plt.figure()\n",
        "ax2 = fig2.add_subplot(1, 1, 1)\n",
        "ax2.scatter(t_list, v0_list, c='blue')\n",
        "plt.show()"
      ],
      "execution_count": 472,
      "outputs": [
        {
          "output_type": "display_data",
          "data": {
            "image/png": "[encoded data removed]",
            "text/plain": [
              "<Figure size 432x288 with 1 Axes>"
            ]
          },
          "metadata": {
            "tags": [],
            "needs_background": "light"
          }
        }
      ]
    },
    {
      "cell_type": "code",
      "metadata": {
        "id": "BLRpHLtmejgC"
      },
      "source": [
        ""
      ],
      "execution_count": 472,
      "outputs": []
    }
  ]
}