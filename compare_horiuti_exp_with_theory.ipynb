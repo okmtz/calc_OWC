{
  "nbformat": 4,
  "nbformat_minor": 0,
  "metadata": {
    "colab": {
      "name": "compare_horiuti_exp_with_theory.ipynb",
      "provenance": [],
      "authorship_tag": "ABX9TyOuu4acCp9DPLe3N0adyz6o",
      "include_colab_link": true
    },
    "kernelspec": {
      "display_name": "Python 3",
      "name": "python3"
    }
  },
  "cells": [
    {
      "cell_type": "markdown",
      "metadata": {
        "id": "view-in-github",
        "colab_type": "text"
      },
      "source": [
        "<a href=\"https://colab.research.google.com/github/souken-b/calc_OWC/blob/main/compare_horiuti_exp_with_theory.ipynb\" target=\"_parent\"><img src=\"https://colab.research.google.com/assets/colab-badge.svg\" alt=\"Open In Colab\"/></a>"
      ]
    },
    {
      "cell_type": "code",
      "metadata": {
        "id": "m2S1f9FcDr0e"
      },
      "source": [
        "import numpy as np\n",
        "from sympy import *\n",
        "import matplotlib.pyplot as plt\n",
        "%matplotlib inline"
      ],
      "execution_count": null,
      "outputs": []
    },
    {
      "cell_type": "code",
      "metadata": {
        "id": "2ZsqUP9GD-7Q"
      },
      "source": [
        "def newton_raphson(f, q1):\n",
        "  fq = diff(f, q)\n",
        "  threshold = 1e-6\n",
        "  res = threshold + 1\n",
        "\n",
        "  while res > threshold:\n",
        "    q2 = float(q1 - (f.subs(q, q1) / fq.subs(q, q1)))\n",
        "    res = np.abs(q2 - q1)\n",
        "    q1 = q2\n",
        "  return q1"
      ],
      "execution_count": null,
      "outputs": []
    },
    {
      "cell_type": "code",
      "metadata": {
        "id": "DzVHfNpbEDWM"
      },
      "source": [
        "def f(q: 'flow_rate', n_diam: 'nozzle diameter', temp, p_up, p_down, n_ratio: 'nozzle ratio', h_ratio: 'specific heat ratio', flow_flg: 'flow direction flg', c_upsilon: '膨張補正係数') -> 'f(q)=aq^3+bq^2+q+d':\n",
        "  # air viscosity rate(Pa・s)\n",
        "  a_v_rate = 18.2 * 1e-6\n",
        "  # air temparature(K)\n",
        "  a_temp = 273 + 25\n",
        "  # sutherland constant\n",
        "  c_suther = 117\n",
        "  # viscosity rate\n",
        "  v_rate = a_v_rate * ((a_temp + c_suther) / (temp + c_suther)) * (temp / a_temp)**(3/2)\n",
        "  # upstream density\n",
        "  dens_up = (p_up * (28.93/1000)) / (8.3144 * temp)\n",
        "  c_lambda = (4/(pi*n_diam))*(dens_up/v_rate)\n",
        "  # 膨張補正係数\n",
        "  exp_coef = c_upsilon\n",
        "  H = (exp_coef ** 2) * ((pi*((n_diam / 2)**2)) ** 2) * 2 * (p_up - p_down) / dens_up\n",
        "  # forward flow\n",
        "  A_0 = 0.601\n",
        "  B = 22.7\n",
        "  C = 815\n",
        "  D = 1401\n",
        "  \n",
        "  coef_a = c_lambda ** 2\n",
        "  coef_b = c_lambda * (B + C)\n",
        "  coef_c = B * C - (c_lambda ** 2) * (A_0 ** 2) *  H\n",
        "  coef_d = -(c_lambda * (A_0 ** 2) * D * H)\n",
        "  return (coef_a * q ** 3 + coef_b * q ** 2 + coef_c * q +coef_d)"
      ],
      "execution_count": null,
      "outputs": []
    },
    {
      "cell_type": "code",
      "metadata": {
        "id": "qdjLpRGbEKaH"
      },
      "source": [
        "def force_ci(c_ci: '縮流係数'):\n",
        "  return ((1 / c_ci) - (1 / (2 * (c_ci ** 2))))"
      ],
      "execution_count": null,
      "outputs": []
    },
    {
      "cell_type": "code",
      "metadata": {
        "id": "GXxKOhgAEOMe"
      },
      "source": [
        "def c_ci(d_ratio: 'diameter ratiodiameter'):\n",
        "  # flow coefficient\n",
        "  f_coef = 0.598 - 0.003 * (d_ratio ** 2) + 0.404 * (d_ratio ** 4)\n",
        "  return (f_coef / ((1 + (d_ratio ** 4) * (f_coef ** 2)) ** (1/2)))"
      ],
      "execution_count": null,
      "outputs": []
    },
    {
      "cell_type": "code",
      "metadata": {
        "id": "A3Fu-mrZERo3"
      },
      "source": [
        "def c_c(f_ci: 'force coef', p_up, p_down, h_ratio):\n",
        "  p_ratio = p_up / p_down\n",
        "  h_ratio_rev = 1/ h_ratio\n",
        "  return ((1 / (2 * f_ci)) * (p_ratio ** h_ratio_rev) * (1 - (1 - ((2 * f_ci * (1 - h_ratio_rev)) * (1 - (1 / p_ratio)) / (1- (p_ratio) ** (h_ratio_rev - 1))))  ** (1/2)))"
      ],
      "execution_count": null,
      "outputs": []
    },
    {
      "cell_type": "code",
      "metadata": {
        "id": "ufRz-ldhESVH"
      },
      "source": [
        "def upsilon(c_ci, c_c, d_ratio:'diameter ratio', p_up, p_down, h_ratio)-> '膨張補正係数':\n",
        "  p_ratio = p_up / p_down\n",
        "  h_ratio_rev = 1/ h_ratio\n",
        "  return ((c_c / c_ci) * (((1 - (c_ci ** 2) * (d_ratio ** 4)) / (1 - (c_c ** 2) * (d_ratio ** 4) * ((1 / p_ratio) ** (2 * h_ratio_rev)))) ** (1/2)) * (((1 / (1 - h_ratio_rev)) * (((1 / p_ratio) ** (2 * h_ratio_rev)) - ((1 / p_ratio) ** (1 + h_ratio_rev))) / (1 - (1 / p_ratio))) ** (1 / 2)))"
      ],
      "execution_count": null,
      "outputs": []
    },
    {
      "cell_type": "code",
      "metadata": {
        "id": "MoMCV6dYEUVn"
      },
      "source": [
        "def calc_flow_by_theory(c_c, n_area, p_up, p_air, h_ratio, dens_up):\n",
        "  h_ratio_rev = 1 / h_ratio\n",
        "  return  c_c * n_area  * ((p_up / p_air) ** (-1 * h_ratio_rev)) * (((2 / (1 - h_ratio_rev)) * (p_up / dens_up) * (1 - (p_up / p_air) ** (h_ratio_rev - 1))) ** (1 / 2))"
      ],
      "execution_count": null,
      "outputs": []
    },
    {
      "cell_type": "code",
      "metadata": {
        "id": "oLJqYKqwEmKh"
      },
      "source": [
        "q = Symbol('q')\n",
        "n_diam = 0.8123 / 100\n",
        "d_ratio = n_diam / (25.4 / 1000)\n",
        "a_0 = pi * (((25.4 / 2) / (1000)) ** 2)\n",
        "p_air = 101325 \n",
        "n_ratio = d_ratio ** 2\n",
        "n_area = a_0 * n_ratio\n",
        "h_ratio = 1.4\n",
        "dens_air = 1.225\n",
        "t_forward = np.linspace(0, (np.pi / 2), 5000)\n",
        "sin_list = np.sin(t_forward)\n",
        "p0_list_in = [(700*i + 101325 ) for i in sin_list]\n",
        "rey_num_list = []\n",
        "flow_coef_list = []\n",
        "c_c_list = []\n",
        "flow_by_exp_list = []\n",
        "flow_by_theory_list = []"
      ],
      "execution_count": null,
      "outputs": []
    },
    {
      "cell_type": "code",
      "metadata": {
        "colab": {
          "base_uri": "https://localhost:8080/"
        },
        "id": "xjAeMe2lExZ8",
        "outputId": "167b7430-96a3-4ab1-944d-39682ec2b6b5"
      },
      "source": [
        "for p0 in p0_list_in:\n",
        "  dens_up = 1.225 * ((p0 / p_air) ** (1 / h_ratio))\n",
        "  temp_up = ((28.93/1000) / 8.3144) * (p0 / dens_up)\n",
        "  c_ci_c = c_ci(d_ratio)\n",
        "  f_ci_c = force_ci(c_ci_c)\n",
        "  # 圧縮性流体力学\n",
        "  c_c_c = c_c(f_ci_c, p0, p_air, h_ratio)\n",
        "  c_upsilon = upsilon(c_ci_c, c_c_c, d_ratio, p0, p_air, h_ratio) \n",
        "  flow_by_exp = newton_raphson(f(q, n_diam, temp_up, p0, p_air, n_ratio, h_ratio, True, c_upsilon), q1=0.0009) \n",
        "  flow_by_theory = calc_flow_by_theory(c_c_c, n_area, p0, p_air, h_ratio, dens_up)\n",
        "  flow_by_exp_list.append(flow_by_exp)\n",
        "  flow_by_theory_list.append(flow_by_theory)"
      ],
      "execution_count": null,
      "outputs": [
        {
          "output_type": "stream",
          "text": [
            "/usr/local/lib/python3.6/dist-packages/ipykernel_launcher.py:4: RuntimeWarning: invalid value encountered in double_scalars\n",
            "  after removing the cwd from sys.path.\n"
          ],
          "name": "stderr"
        }
      ]
    },
    {
      "cell_type": "code",
      "metadata": {
        "colab": {
          "background_save": true
        },
        "id": "KKWxkGwcFkPa",
        "outputId": "4322a022-6087-4a22-932a-bf18e3716963"
      },
      "source": [
        "fig = plt.figure()\n",
        "ax = fig.subplot(1, 1, 1)\n",
        "ax.scatter(t_forward, flow_by_exp_list, c='blue')\n",
        "ax.scatter(t_forward, flow_by_theory_list, c='red')\n",
        "ax.grid(which = \"major\", axis = \"y\", color = \"green\", alpha = 0.8, linestyle = \"--\", linewidth = 1)\n",
        "fig.show()"
      ],
      "execution_count": null,
      "outputs": [
        {
          "output_type": "display_data",
          "data": {
            "image/png": "[encoded data removed]",
            "text/plain": [
              "<Figure size 432x288 with 1 Axes>"
            ]
          },
          "metadata": {
            "tags": []
          }
        }
      ]
    }
  ]
}